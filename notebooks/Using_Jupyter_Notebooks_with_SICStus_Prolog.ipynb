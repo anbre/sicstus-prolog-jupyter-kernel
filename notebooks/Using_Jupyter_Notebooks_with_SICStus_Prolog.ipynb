{
 "cells": [
  {
   "cell_type": "markdown",
   "metadata": {
    "slideshow": {
     "slide_type": "slide"
    },
    "tags": []
   },
   "source": [
    "# Using Jupyter Notebooks with SICStus Prolog"
   ]
  },
  {
   "cell_type": "markdown",
   "metadata": {
    "jp-MarkdownHeadingCollapsed": true,
    "slideshow": {
     "slide_type": "fragment"
    },
    "tags": []
   },
   "source": [
    "This notebook gives an introduction to the usage of SICStus Prolog in a Jupyter notebook with the\n",
    "[SICStus Prolog Jupyter Kernel](https://github.com/anbre/sicstus-prolog-jupyter-kernel).<br>\n",
    "\n",
    "The main requirement for the Prolog Jupyter kernel was for the usage to be as similar to a Prolog REPL as possible.<br>\n",
    "Therefore, any code to be executed needs to be valid Prolog code and the output mostly resembles the console output.<br>\n",
    "Additionally, some Jupyter specific messages are printed such as information about the Prolog server (which is responsible for code execution) being halted or restarted.<br>\n",
    "\n",
    "A code cell can contain more than one Prolog term.<br>\n",
    "Each of these terms can be a clause definition, directive, or query.<br>\n",
    "Any variable bindings or other output produced by the terms is displayed in the cell's output.<br>\n",
    "\n",
    "A main difference compared to the usage in a console is that no user interaction is possible.<br>\n",
    "Therefore, [computing further solutions](#multiple_solutions) for a goal needs to be handled differently.<br>\n",
    "Additionally, [debugging](#debugging) cannot be executed as usual.<br>\n",
    "A major advantage over using a Prolog REPL is that [predicate (re-)definition](#predicate_definition) is more straightforward.<br>\n",
    "Another convenience the kernel provides is that if the last term of a cell is missing the terminating full-stop, the code can be executed anyway. <br>"
   ]
  },
  {
   "cell_type": "markdown",
   "metadata": {},
   "source": [
    "This notebook is structured by the features which the Prolog kernel provides.<br>\n",
    "For each of them, examples are provided which show some possible use cases.<br>\n",
    "Furthermore, possible peculiarities are explained.\n",
    "\n",
    "Some of the features correspond to particularities of Prolog that stem from using SLD-resolution as its execution mechanism.<br>\n",
    "Others are non-standard features that are available in almost every Prolog implementation.<br>\n",
    "Additionally, there is kernel specific functionality which is provided mostly for user convenience.\n",
    "\n",
    "Prolog Particularities:\n",
    "- [Query Execution](#query_execution)\n",
    "- [Predicate (Re-)Definition](#predicate_definition)\n",
    "- [Handling Multiple Solutions](#multiple_solutions)\n",
    "\n",
    "De-Facto Standard Prolog Features:\n",
    "- [Loading Source Files and Libraries](#load)\n",
    "- [Running Automated Tests](#automated_tests)\n",
    "- [Benchmarking Capabilities](#benchmarking)\n",
    "- [Debugging](#debugging)\n",
    "\n",
    "Jupyter Convenience Features\n",
    "- [Introspection](#introspection)\n",
    "    - [Code completion](#code_completion)\n",
    "    - [Inspection](#inspection)\n",
    "    - [Accessing `juypter` documentation](#jupyter_docs)\n",
    "- [Reset the Prolog State](#reset_state)\n",
    "- [Accessing Previous Results](#previous_results)\n",
    "- [Structured Output](#structured_output)"
   ]
  },
  {
   "cell_type": "markdown",
   "metadata": {
    "tags": []
   },
   "source": [
    "## Prolog Particularities"
   ]
  },
  {
   "cell_type": "markdown",
   "metadata": {
    "slideshow": {
     "slide_type": "slide"
    },
    "tags": []
   },
   "source": [
    "### Query Execution <a id='query_execution'></a>"
   ]
  },
  {
   "cell_type": "markdown",
   "metadata": {
    "slideshow": {
     "slide_type": "-"
    },
    "tags": []
   },
   "source": [
    "If a cell contains a single potential query, it is interpreted as such as opposed to the [definition of a clause](#predicate_definition).<br>\n",
    "Additionally, terms starting with `?-` and directives starting with `:-` are evaluated as queries even if they appear in a cell with multiple other terms."
   ]
  },
  {
   "cell_type": "markdown",
   "metadata": {},
   "source": [
    "If a query succeeds and binds any variables, the bindings are shown in the output of the cell.<br>\n",
    "Analogously, if there are no bindings, `yes` is printed and if a query fails, `no` is output."
   ]
  },
  {
   "cell_type": "code",
   "execution_count": 1,
   "metadata": {
    "slideshow": {
     "slide_type": "-"
    }
   },
   "outputs": [
    {
     "data": {
      "text/latex": [
       "X = [1,2,3],\\\\\n",
       " Z = [1,2,3,4,5,6]"
      ],
      "text/markdown": [
       "<pre style=\"\n",
       "font-family: Menlo, Consolas, 'DejaVu Sans Mono', monospace;\n",
       "font-size: 13px;\n",
       "line-height: 1.3077;\n",
       "font-weight: bold;\">X = [1,2,3],\n",
       "Z = [1,2,3,4,5,6]</pre>"
      ],
      "text/plain": [
       "X = [1,2,3],\n",
       "Z = [1,2,3,4,5,6]"
      ]
     },
     "metadata": {},
     "output_type": "display_data"
    }
   ],
   "source": [
    "X = [1,2,3], append(X, [4,5,6], Z)."
   ]
  },
  {
   "cell_type": "code",
   "execution_count": null,
   "metadata": {},
   "outputs": [
    {
     "data": {
      "text/latex": [
       "yes"
      ],
      "text/markdown": [
       "<pre style=\"\n",
       "font-family: Menlo, Consolas, 'DejaVu Sans Mono', monospace;\n",
       "font-size: 13px;\n",
       "line-height: 1.3077;\n",
       "font-weight: bold;\">yes</pre>"
      ],
      "text/plain": [
       "yes"
      ]
     },
     "metadata": {},
     "output_type": "display_data"
    },
    {
     "data": {
      "text/latex": [
       "no"
      ],
      "text/markdown": [
       "<pre style=\"\n",
       "font-family: Menlo, Consolas, 'DejaVu Sans Mono', monospace;\n",
       "font-size: 13px;\n",
       "line-height: 1.3077;\n",
       "color:red; font-weight:bold;\">no</pre>"
      ],
      "text/plain": [
       "no"
      ]
     },
     "metadata": {},
     "output_type": "display_data"
    }
   ],
   "source": [
    "?- member(2, [1, 2, 3]).\n",
    "?- member(4, [1, 2, 3])"
   ]
  },
  {
   "cell_type": "markdown",
   "metadata": {},
   "source": [
    "If a query causes an exception, the exception message is printed in red."
   ]
  },
  {
   "cell_type": "code",
   "execution_count": null,
   "metadata": {},
   "outputs": [
    {
     "data": {
      "text/latex": [
       "! Type error in argument 2 of (is)/2\\\\\n",
       " ! expected evaluable, but found y/0\\\\\n",
       " ! goal:  7 is 1+y\\\\\n",
       " "
      ],
      "text/markdown": [
       "<pre style=\"\n",
       "font-family: Menlo, Consolas, 'DejaVu Sans Mono', monospace;\n",
       "font-size: 13px;\n",
       "line-height: 1.3077;\n",
       "color:red; font-weight:bold;\">! Type error in argument 2 of (is)/2\n",
       "! expected evaluable, but found y/0\n",
       "! goal:  7 is 1+y\n",
       "</pre>"
      ],
      "text/plain": [
       "! Type error in argument 2 of (is)/2\n",
       "! expected evaluable, but found y/0\n",
       "! goal:  7 is 1+y\n"
      ]
     },
     "metadata": {},
     "output_type": "display_data"
    }
   ],
   "source": [
    "7 is 1 + y."
   ]
  },
  {
   "cell_type": "markdown",
   "metadata": {},
   "source": [
    "If the execution produces any output, it is displayed preceding the other information."
   ]
  },
  {
   "cell_type": "code",
   "execution_count": 4,
   "metadata": {
    "tags": []
   },
   "outputs": [
    {
     "data": {
      "text/latex": [
       "Using SICStus Prolog!"
      ],
      "text/markdown": [
       "<pre style=\"\n",
       "font-family: Menlo, Consolas, 'DejaVu Sans Mono', monospace;\n",
       "font-size: 13px;\n",
       "line-height: 1.3077;\n",
       "\">Using SICStus Prolog!</pre>"
      ],
      "text/plain": [
       "Using SICStus Prolog!"
      ]
     },
     "metadata": {},
     "output_type": "display_data"
    },
    {
     "data": {
      "text/latex": [
       "yes"
      ],
      "text/markdown": [
       "<pre style=\"\n",
       "font-family: Menlo, Consolas, 'DejaVu Sans Mono', monospace;\n",
       "font-size: 13px;\n",
       "line-height: 1.3077;\n",
       "font-weight: bold;\">yes</pre>"
      ],
      "text/plain": [
       "yes"
      ]
     },
     "metadata": {},
     "output_type": "display_data"
    }
   ],
   "source": [
    "format('Using ~w Prolog!~n', ['SICStus'])."
   ]
  },
  {
   "cell_type": "markdown",
   "metadata": {},
   "source": [
    "Just like in a Prolog REPL, no variable bindings are output for directives."
   ]
  },
  {
   "cell_type": "code",
   "execution_count": 5,
   "metadata": {},
   "outputs": [
    {
     "data": {
      "text/latex": [
       "1"
      ],
      "text/markdown": [
       "<pre style=\"\n",
       "font-family: Menlo, Consolas, 'DejaVu Sans Mono', monospace;\n",
       "font-size: 13px;\n",
       "line-height: 1.3077;\n",
       "\">1</pre>"
      ],
      "text/plain": [
       "1"
      ]
     },
     "metadata": {},
     "output_type": "display_data"
    }
   ],
   "source": [
    ":- member(M, [1, 2, 3]), print(M)."
   ]
  },
  {
   "cell_type": "markdown",
   "metadata": {
    "tags": []
   },
   "source": [
    "### Predicate (Re-)Definition <a id='predicate_definition'></a>"
   ]
  },
  {
   "cell_type": "markdown",
   "metadata": {
    "tags": []
   },
   "source": [
    "If a cell contains more than one term, in general, all terms are added as dynamic facts to the data base.<br>\n",
    "The only exceptions are terms starting with `?-` or `:-` and PL-Unit test definitions.<br>\n",
    "\n",
    "All defined clauses can be module name expanded such as `Module:Head :- Body.`. <br>\n",
    "If no module name is defined, the module `user` is chosen by default.<br>\n",
    "In order to let the user know the exact predicate which was defined, a message containing the module name and predicate name and arity is output."
   ]
  },
  {
   "cell_type": "code",
   "execution_count": 6,
   "metadata": {},
   "outputs": [
    {
     "data": {
      "text/latex": [
       "% Asserting clauses for user:app/3\\\\\n",
       " "
      ],
      "text/markdown": [
       "<pre style=\"\n",
       "font-family: Menlo, Consolas, 'DejaVu Sans Mono', monospace;\n",
       "font-size: 13px;\n",
       "line-height: 1.3077;\n",
       "\">% Asserting clauses for user:app/3\n",
       "</pre>"
      ],
      "text/plain": [
       "% Asserting clauses for user:app/3\n"
      ]
     },
     "metadata": {},
     "output_type": "display_data"
    }
   ],
   "source": [
    "app([], Res, Res).\n",
    "app([H|T], List, [H|Res]) :-\n",
    "  app(T, List, Res)."
   ]
  },
  {
   "cell_type": "markdown",
   "metadata": {},
   "source": [
    "If users want to assert a single fact, they can achieve it by writing a term of the form `Head :- Body.`.<br>\n",
    "Also note that it is possible to define and query a predicate in the same cell."
   ]
  },
  {
   "cell_type": "code",
   "execution_count": 7,
   "metadata": {},
   "outputs": [
    {
     "data": {
      "text/latex": [
       "% Asserting clauses for user:app/4\\\\\n",
       " "
      ],
      "text/markdown": [
       "<pre style=\"\n",
       "font-family: Menlo, Consolas, 'DejaVu Sans Mono', monospace;\n",
       "font-size: 13px;\n",
       "line-height: 1.3077;\n",
       "\">% Asserting clauses for user:app/4\n",
       "</pre>"
      ],
      "text/plain": [
       "% Asserting clauses for user:app/4\n"
      ]
     },
     "metadata": {},
     "output_type": "display_data"
    },
    {
     "data": {
      "text/latex": [
       "R = [1,2,3,4,5,6]"
      ],
      "text/markdown": [
       "<pre style=\"\n",
       "font-family: Menlo, Consolas, 'DejaVu Sans Mono', monospace;\n",
       "font-size: 13px;\n",
       "line-height: 1.3077;\n",
       "font-weight: bold;\">R = [1,2,3,4,5,6]</pre>"
      ],
      "text/plain": [
       "R = [1,2,3,4,5,6]"
      ]
     },
     "metadata": {},
     "output_type": "display_data"
    }
   ],
   "source": [
    "app(L1, L2, L3, Res) :-\n",
    "  app(L2, L3, R1),\n",
    "  app(L1, R1, Res).\n",
    "  \n",
    "?- app([1,2], [3,4], [5,6], R)."
   ]
  },
  {
   "cell_type": "markdown",
   "metadata": {
    "tags": []
   },
   "source": [
    "The use of Prolog in a Jupyter application is meant for interactive programming.<br>\n",
    "This involves writing, testing and re-writing clauses rather than only adding new clauses to the fact database.<br>\n",
    "Therefore, when clauses are defined for a dynamic predicate for which there are existing ones, these are retracted first.<br>\n",
    "Thus, all clauses of a predicate need to be defined in one cell.<br>\n",
    "\n",
    "In case clauses were retracted, the user is informed.<br>\n",
    "This is done by a message preceding all other output.<br>\n",
    "The message can be expanded in order to see the exact clauses which were retracted.<br>"
   ]
  },
  {
   "cell_type": "code",
   "execution_count": 8,
   "metadata": {
    "slideshow": {
     "slide_type": "slide"
    }
   },
   "outputs": [
    {
     "data": {
      "text/html": [
       "\n",
       "            <style>\n",
       "            details  {\n",
       "            \n",
       "font-family: Menlo, Consolas, 'DejaVu Sans Mono', monospace;\n",
       "font-size: 13px;\n",
       "line-height: 1.3077;\n",
       "\n",
       "            }\n",
       "\n",
       "            details > summary {\n",
       "              cursor: pointer;\n",
       "            }\n",
       "            </style>\n",
       "            <details><summary>Some previously defined clauses were retracted (click to expand)</summary><details open><summary>user:app/3</summary><pre>app([], A, A).\n",
       "app([A|B], C, [A|D]) :-\n",
       "        app(B, C, D).\n",
       "</pre><br></details></details>"
      ],
      "text/plain": [
       "Some previously defined clauses were retracted:\n",
       "user:app/3:\n",
       "app([], A, A).\n",
       "app([A|B], C, [A|D]) :-\n",
       "        app(B, C, D).\n",
       "\n"
      ]
     },
     "metadata": {
      "application/json": {}
     },
     "output_type": "display_data"
    },
    {
     "data": {
      "text/latex": [
       "% Asserting clauses for user:app/3\\\\\n",
       " "
      ],
      "text/markdown": [
       "<pre style=\"\n",
       "font-family: Menlo, Consolas, 'DejaVu Sans Mono', monospace;\n",
       "font-size: 13px;\n",
       "line-height: 1.3077;\n",
       "\">% Asserting clauses for user:app/3\n",
       "</pre>"
      ],
      "text/plain": [
       "% Asserting clauses for user:app/3\n"
      ]
     },
     "metadata": {},
     "output_type": "display_data"
    }
   ],
   "source": [
    "user:app([], Res, Res) :- !.\n",
    "user:app([Head|Tail], List, [Head|Res]) :-\n",
    "  app(Tail, List, Res)."
   ]
  },
  {
   "cell_type": "markdown",
   "metadata": {},
   "source": [
    "Additionally, clauses can be defined in the form of DCG rules."
   ]
  },
  {
   "cell_type": "code",
   "execution_count": 9,
   "metadata": {
    "tags": []
   },
   "outputs": [
    {
     "data": {
      "text/latex": [
       "% Asserting clauses for user:number/3\\\\\n",
       " "
      ],
      "text/markdown": [
       "<pre style=\"\n",
       "font-family: Menlo, Consolas, 'DejaVu Sans Mono', monospace;\n",
       "font-size: 13px;\n",
       "line-height: 1.3077;\n",
       "\">% Asserting clauses for user:number/3\n",
       "</pre>"
      ],
      "text/plain": [
       "% Asserting clauses for user:number/3\n"
      ]
     },
     "metadata": {},
     "output_type": "display_data"
    }
   ],
   "source": [
    "number(Number) --> \"+\", number(Number).\n",
    "number(NegativeNumber) --> \"-\", number(Number), {NegativeNumber is -Number}.\n",
    "number(Number) --> [Digit], {\"0\"=<Digit, Digit=<\"9\", Number is Digit - \"0\"}."
   ]
  },
  {
   "cell_type": "code",
   "execution_count": 10,
   "metadata": {
    "tags": []
   },
   "outputs": [
    {
     "data": {
      "text/latex": [
       "N = -1"
      ],
      "text/markdown": [
       "<pre style=\"\n",
       "font-family: Menlo, Consolas, 'DejaVu Sans Mono', monospace;\n",
       "font-size: 13px;\n",
       "line-height: 1.3077;\n",
       "font-weight: bold;\">N = -1</pre>"
      ],
      "text/plain": [
       "N = -1"
      ]
     },
     "metadata": {},
     "output_type": "display_data"
    }
   ],
   "source": [
    "atom_codes('-1', _Codes), phrase(number(N), _Codes)."
   ]
  },
  {
   "cell_type": "markdown",
   "metadata": {
    "tags": []
   },
   "source": [
    "### Handling Multiple Solutions <a id='multiple_solutions'></a>"
   ]
  },
  {
   "cell_type": "markdown",
   "metadata": {},
   "source": [
    "When a query succeeds with a choice point, one can request further solutions via backtracking.<br>\n",
    "The Jupyter kernel mimics this by providing the predicate `jupyter:retry/0`.<br>\n",
    "Whenever a query is executed, it is seen as the active query as long as there might be further solutions for it.<br>\n",
    "If there is an active query, a `retry` may trigger backtracking to compute the next solution.<br>\n",
    "In order to let the user know which query is retried, a corresponding message is output.<br>\n",
    "\n",
    "Additionally, the predicate `jupyter:cut/0` is exposed.<br>\n",
    "It cuts off choicepoints of the active execution and marks an older query which might have open choice points as active.<br>\n",
    "The user is informed about the new active query.\n",
    "\n",
    "Since backtracking is a Prolog feature which is used frequently, these two predicates can be called without stating the module and cannot be redefined in the `user` module.<br>\n",
    "\n",
    "It needs to be noted that both predicates do not work unless they are the only goal in a query.<br>"
   ]
  },
  {
   "cell_type": "code",
   "execution_count": 11,
   "metadata": {},
   "outputs": [
    {
     "data": {
      "text/latex": [
       "M = 1"
      ],
      "text/markdown": [
       "<pre style=\"\n",
       "font-family: Menlo, Consolas, 'DejaVu Sans Mono', monospace;\n",
       "font-size: 13px;\n",
       "line-height: 1.3077;\n",
       "font-weight: bold;\">M = 1</pre>"
      ],
      "text/plain": [
       "M = 1"
      ]
     },
     "metadata": {},
     "output_type": "display_data"
    },
    {
     "data": {
      "text/latex": [
       "M = a"
      ],
      "text/markdown": [
       "<pre style=\"\n",
       "font-family: Menlo, Consolas, 'DejaVu Sans Mono', monospace;\n",
       "font-size: 13px;\n",
       "line-height: 1.3077;\n",
       "font-weight: bold;\">M = a</pre>"
      ],
      "text/plain": [
       "M = a"
      ]
     },
     "metadata": {},
     "output_type": "display_data"
    }
   ],
   "source": [
    "?- member(M, [1, 2]).\n",
    "?- member(M, [a, b, c])."
   ]
  },
  {
   "cell_type": "code",
   "execution_count": 12,
   "metadata": {},
   "outputs": [
    {
     "data": {
      "text/latex": [
       "% Retrying goal: member(M,[a,b,c])\\\\\n",
       " "
      ],
      "text/markdown": [
       "<pre style=\"\n",
       "font-family: Menlo, Consolas, 'DejaVu Sans Mono', monospace;\n",
       "font-size: 13px;\n",
       "line-height: 1.3077;\n",
       "\">% Retrying goal: member(M,[a,b,c])\n",
       "</pre>"
      ],
      "text/plain": [
       "% Retrying goal: member(M,[a,b,c])\n"
      ]
     },
     "metadata": {},
     "output_type": "display_data"
    },
    {
     "data": {
      "text/latex": [
       "M = b"
      ],
      "text/markdown": [
       "<pre style=\"\n",
       "font-family: Menlo, Consolas, 'DejaVu Sans Mono', monospace;\n",
       "font-size: 13px;\n",
       "line-height: 1.3077;\n",
       "font-weight: bold;\">M = b</pre>"
      ],
      "text/plain": [
       "M = b"
      ]
     },
     "metadata": {},
     "output_type": "display_data"
    }
   ],
   "source": [
    "retry."
   ]
  },
  {
   "cell_type": "code",
   "execution_count": 13,
   "metadata": {},
   "outputs": [
    {
     "data": {
      "text/latex": [
       "% Successfully cut\\\\\n",
       " % The new active goal is: member(M,[1,2])"
      ],
      "text/markdown": [
       "<pre style=\"\n",
       "font-family: Menlo, Consolas, 'DejaVu Sans Mono', monospace;\n",
       "font-size: 13px;\n",
       "line-height: 1.3077;\n",
       "\">% Successfully cut\n",
       "% The new active goal is: member(M,[1,2])</pre>"
      ],
      "text/plain": [
       "% Successfully cut\n",
       "% The new active goal is: member(M,[1,2])"
      ]
     },
     "metadata": {},
     "output_type": "display_data"
    }
   ],
   "source": [
    "cut."
   ]
  },
  {
   "cell_type": "code",
   "execution_count": 14,
   "metadata": {},
   "outputs": [
    {
     "data": {
      "text/latex": [
       "% Retrying goal: member(M,[1,2])\\\\\n",
       " "
      ],
      "text/markdown": [
       "<pre style=\"\n",
       "font-family: Menlo, Consolas, 'DejaVu Sans Mono', monospace;\n",
       "font-size: 13px;\n",
       "line-height: 1.3077;\n",
       "\">% Retrying goal: member(M,[1,2])\n",
       "</pre>"
      ],
      "text/plain": [
       "% Retrying goal: member(M,[1,2])\n"
      ]
     },
     "metadata": {},
     "output_type": "display_data"
    },
    {
     "data": {
      "text/latex": [
       "M = 2"
      ],
      "text/markdown": [
       "<pre style=\"\n",
       "font-family: Menlo, Consolas, 'DejaVu Sans Mono', monospace;\n",
       "font-size: 13px;\n",
       "line-height: 1.3077;\n",
       "font-weight: bold;\">M = 2</pre>"
      ],
      "text/plain": [
       "M = 2"
      ]
     },
     "metadata": {},
     "output_type": "display_data"
    }
   ],
   "source": [
    "jupyter:retry."
   ]
  },
  {
   "cell_type": "markdown",
   "metadata": {},
   "source": [
    "The `retry` and `cut` mechanism can be useful when:\n",
    "- Computing the solution of a query\n",
    "- Further inspecting the solution with a different query\n",
    "- Computing the next solution and further inspecting it\n",
    "\n",
    "This is especially useful when the computation of the first solution took so long that it should not be executed again.\n",
    "\n",
    "For an explanation of `$Var` terms, see [Accessing Previous Results](#previous_results).\n"
   ]
  },
  {
   "cell_type": "code",
   "execution_count": 15,
   "metadata": {},
   "outputs": [
    {
     "data": {
      "text/latex": [
       "% Asserting clauses for user:is_odd/1\\\\\n",
       " "
      ],
      "text/markdown": [
       "<pre style=\"\n",
       "font-family: Menlo, Consolas, 'DejaVu Sans Mono', monospace;\n",
       "font-size: 13px;\n",
       "line-height: 1.3077;\n",
       "\">% Asserting clauses for user:is_odd/1\n",
       "</pre>"
      ],
      "text/plain": [
       "% Asserting clauses for user:is_odd/1\n"
      ]
     },
     "metadata": {},
     "output_type": "display_data"
    }
   ],
   "source": [
    "is_odd(X) :-\n",
    "  1 is X mod 2."
   ]
  },
  {
   "cell_type": "code",
   "execution_count": 16,
   "metadata": {},
   "outputs": [
    {
     "data": {
      "text/latex": [
       "M = 1"
      ],
      "text/markdown": [
       "<pre style=\"\n",
       "font-family: Menlo, Consolas, 'DejaVu Sans Mono', monospace;\n",
       "font-size: 13px;\n",
       "line-height: 1.3077;\n",
       "font-weight: bold;\">M = 1</pre>"
      ],
      "text/plain": [
       "M = 1"
      ]
     },
     "metadata": {},
     "output_type": "display_data"
    }
   ],
   "source": [
    "member(M, [1, 2, 3, 4, 5])."
   ]
  },
  {
   "cell_type": "code",
   "execution_count": 17,
   "metadata": {},
   "outputs": [
    {
     "data": {
      "text/latex": [
       "M = 1"
      ],
      "text/markdown": [
       "<pre style=\"\n",
       "font-family: Menlo, Consolas, 'DejaVu Sans Mono', monospace;\n",
       "font-size: 13px;\n",
       "line-height: 1.3077;\n",
       "font-weight: bold;\">M = 1</pre>"
      ],
      "text/plain": [
       "M = 1"
      ]
     },
     "metadata": {},
     "output_type": "display_data"
    }
   ],
   "source": [
    "is_odd($M)."
   ]
  },
  {
   "cell_type": "code",
   "execution_count": null,
   "metadata": {},
   "outputs": [
    {
     "data": {
      "text/latex": [
       "% Successfully cut\\\\\n",
       " % The new active goal is: member(M,[1,2,3,4,5])"
      ],
      "text/markdown": [
       "<pre style=\"\n",
       "font-family: Menlo, Consolas, 'DejaVu Sans Mono', monospace;\n",
       "font-size: 13px;\n",
       "line-height: 1.3077;\n",
       "\">% Successfully cut\n",
       "% The new active goal is: member(M,[1,2,3,4,5])</pre>"
      ],
      "text/plain": [
       "% Successfully cut\n",
       "% The new active goal is: member(M,[1,2,3,4,5])"
      ]
     },
     "metadata": {},
     "output_type": "display_data"
    },
    {
     "data": {
      "text/latex": [
       "% Retrying goal: member(M,[1,2,3,4,5])\\\\\n",
       " "
      ],
      "text/markdown": [
       "<pre style=\"\n",
       "font-family: Menlo, Consolas, 'DejaVu Sans Mono', monospace;\n",
       "font-size: 13px;\n",
       "line-height: 1.3077;\n",
       "\">% Retrying goal: member(M,[1,2,3,4,5])\n",
       "</pre>"
      ],
      "text/plain": [
       "% Retrying goal: member(M,[1,2,3,4,5])\n"
      ]
     },
     "metadata": {},
     "output_type": "display_data"
    },
    {
     "data": {
      "text/latex": [
       "M = 2"
      ],
      "text/markdown": [
       "<pre style=\"\n",
       "font-family: Menlo, Consolas, 'DejaVu Sans Mono', monospace;\n",
       "font-size: 13px;\n",
       "line-height: 1.3077;\n",
       "font-weight: bold;\">M = 2</pre>"
      ],
      "text/plain": [
       "M = 2"
      ]
     },
     "metadata": {},
     "output_type": "display_data"
    },
    {
     "data": {
      "text/latex": [
       "no"
      ],
      "text/markdown": [
       "<pre style=\"\n",
       "font-family: Menlo, Consolas, 'DejaVu Sans Mono', monospace;\n",
       "font-size: 13px;\n",
       "line-height: 1.3077;\n",
       "color:red; font-weight:bold;\">no</pre>"
      ],
      "text/plain": [
       "no"
      ]
     },
     "metadata": {},
     "output_type": "display_data"
    }
   ],
   "source": [
    "?- cut.\n",
    "?- retry.\n",
    "?- is_odd($M)."
   ]
  },
  {
   "cell_type": "markdown",
   "metadata": {},
   "source": [
    "Note that this time no `cut` is needed because the previous query failed."
   ]
  },
  {
   "cell_type": "code",
   "execution_count": 19,
   "metadata": {},
   "outputs": [
    {
     "data": {
      "text/latex": [
       "% Retrying goal: member(M,[1,2,3,4,5])\\\\\n",
       " "
      ],
      "text/markdown": [
       "<pre style=\"\n",
       "font-family: Menlo, Consolas, 'DejaVu Sans Mono', monospace;\n",
       "font-size: 13px;\n",
       "line-height: 1.3077;\n",
       "\">% Retrying goal: member(M,[1,2,3,4,5])\n",
       "</pre>"
      ],
      "text/plain": [
       "% Retrying goal: member(M,[1,2,3,4,5])\n"
      ]
     },
     "metadata": {},
     "output_type": "display_data"
    },
    {
     "data": {
      "text/latex": [
       "M = 3"
      ],
      "text/markdown": [
       "<pre style=\"\n",
       "font-family: Menlo, Consolas, 'DejaVu Sans Mono', monospace;\n",
       "font-size: 13px;\n",
       "line-height: 1.3077;\n",
       "font-weight: bold;\">M = 3</pre>"
      ],
      "text/plain": [
       "M = 3"
      ]
     },
     "metadata": {},
     "output_type": "display_data"
    },
    {
     "data": {
      "text/latex": [
       "M = 3"
      ],
      "text/markdown": [
       "<pre style=\"\n",
       "font-family: Menlo, Consolas, 'DejaVu Sans Mono', monospace;\n",
       "font-size: 13px;\n",
       "line-height: 1.3077;\n",
       "font-weight: bold;\">M = 3</pre>"
      ],
      "text/plain": [
       "M = 3"
      ]
     },
     "metadata": {},
     "output_type": "display_data"
    }
   ],
   "source": [
    "?- retry.\n",
    "?- is_odd($M)."
   ]
  },
  {
   "cell_type": "markdown",
   "metadata": {
    "tags": []
   },
   "source": [
    "## De-Facto Standard Prolog Features"
   ]
  },
  {
   "cell_type": "markdown",
   "metadata": {
    "tags": []
   },
   "source": [
    "### Loading Source Files and Libraries <a id='load'></a>"
   ]
  },
  {
   "cell_type": "markdown",
   "metadata": {},
   "source": [
    "Loading source files and libraries works in the same way as on a Prolog REPL.<br>\n",
    "Predicates are always re-defined when encountered (as user interaction is not possible during the load)."
   ]
  },
  {
   "cell_type": "code",
   "execution_count": 20,
   "metadata": {},
   "outputs": [
    {
     "data": {
      "text/latex": [
       "% module lists imported into user"
      ],
      "text/markdown": [
       "<pre style=\"\n",
       "font-family: Menlo, Consolas, 'DejaVu Sans Mono', monospace;\n",
       "font-size: 13px;\n",
       "line-height: 1.3077;\n",
       "\">% module lists imported into user</pre>"
      ],
      "text/plain": [
       "% module lists imported into user"
      ]
     },
     "metadata": {},
     "output_type": "display_data"
    },
    {
     "data": {
      "text/latex": [
       "yes"
      ],
      "text/markdown": [
       "<pre style=\"\n",
       "font-family: Menlo, Consolas, 'DejaVu Sans Mono', monospace;\n",
       "font-size: 13px;\n",
       "line-height: 1.3077;\n",
       "font-weight: bold;\">yes</pre>"
      ],
      "text/plain": [
       "yes"
      ]
     },
     "metadata": {},
     "output_type": "display_data"
    }
   ],
   "source": [
    "use_module(library(lists))."
   ]
  },
  {
   "cell_type": "code",
   "execution_count": 21,
   "metadata": {},
   "outputs": [
    {
     "data": {
      "text/latex": [
       "L = [1,2,3]"
      ],
      "text/markdown": [
       "<pre style=\"\n",
       "font-family: Menlo, Consolas, 'DejaVu Sans Mono', monospace;\n",
       "font-size: 13px;\n",
       "line-height: 1.3077;\n",
       "font-weight: bold;\">L = [1,2,3]</pre>"
      ],
      "text/plain": [
       "L = [1,2,3]"
      ]
     },
     "metadata": {},
     "output_type": "display_data"
    }
   ],
   "source": [
    "append([[1], [2], [3]], L). "
   ]
  },
  {
   "cell_type": "markdown",
   "metadata": {},
   "source": [
    "Note that loading a library and using operators from that library does not work in a single query.<br>\n",
    "The term needs to be read by the built-in predicate `read_term/3`, which throws a syntax error when encountering undefined operators."
   ]
  },
  {
   "cell_type": "code",
   "execution_count": null,
   "metadata": {},
   "outputs": [
    {
     "data": {
      "text/latex": [
       "! Syntax error in read_term/3\\\\\n",
       " ! operator expected after expression\\\\\n",
       " ! in line 1\\\\\n",
       " ! use_module ( library ( clpfd ) ) , X \\\\\n",
       " ! <<here>>\\\\\n",
       " ! #< 10 , X #> 5 . \\\\\n",
       " "
      ],
      "text/markdown": [
       "<pre style=\"\n",
       "font-family: Menlo, Consolas, 'DejaVu Sans Mono', monospace;\n",
       "font-size: 13px;\n",
       "line-height: 1.3077;\n",
       "color:red; font-weight:bold;\">! Syntax error in read_term/3\n",
       "! operator expected after expression\n",
       "! in line 1\n",
       "! use_module ( library ( clpfd ) ) , X \n",
       "! <<here>>\n",
       "! #< 10 , X #> 5 . \n",
       "</pre>"
      ],
      "text/plain": [
       "! Syntax error in read_term/3\n",
       "! operator expected after expression\n",
       "! in line 1\n",
       "! use_module ( library ( clpfd ) ) , X \n",
       "! <<here>>\n",
       "! #< 10 , X #> 5 . \n"
      ]
     },
     "metadata": {},
     "output_type": "display_data"
    }
   ],
   "source": [
    "use_module(library(clpfd)), X #< 10, X #> 5."
   ]
  },
  {
   "cell_type": "code",
   "execution_count": 23,
   "metadata": {},
   "outputs": [
    {
     "data": {
      "text/latex": [
       "% loading /usr/local/sicstus4.5.1/bin/sp-4.5.1/sicstus-4.5.1/library/clpfd.po...\\\\\n",
       " % module clpfd imported into user\\\\\n",
       " %  loading /usr/local/sicstus4.5.1/bin/sp-4.5.1/sicstus-4.5.1/library/atts.po...\\\\\n",
       " %  module attributes imported into clpfd\\\\\n",
       " %   module types imported into attributes\\\\\n",
       " %  loaded /usr/local/sicstus4.5.1/bin/sp-4.5.1/sicstus-4.5.1/library/atts.po in module attributes, 3 msec 30544 bytes\\\\\n",
       " %  compiling /usr/local/sicstus4.5.1/bin/sp-4.5.1/sicstus-4.5.1/library/avl.pl...\\\\\n",
       " %   module avl imported into clpfd\\\\\n",
       " %  compiled /usr/local/sicstus4.5.1/bin/sp-4.5.1/sicstus-4.5.1/library/avl.pl in module avl, 16 msec 62768 bytes\\\\\n",
       " %  module lists imported into clpfd\\\\\n",
       " %  loading /usr/local/sicstus4.5.1/bin/sp-4.5.1/sicstus-4.5.1/library/ordsets.po...\\\\\n",
       " %  module ordsets imported into clpfd\\\\\n",
       " %  loaded /usr/local/sicstus4.5.1/bin/sp-4.5.1/sicstus-4.5.1/library/ordsets.po in module ordsets, 1 msec 45904 bytes\\\\\n",
       " %  loading /usr/local/sicstus4.5.1/bin/sp-4.5.1/sicstus-4.5.1/library/trees.po...\\\\\n",
       " %  module trees imported into clpfd\\\\\n",
       " %  loaded /usr/local/sicstus4.5.1/bin/sp-4.5.1/sicstus-4.5.1/library/trees.po in module trees, 2 msec 11488 bytes\\\\\n",
       " %  module types imported into clpfd\\\\\n",
       " %  loading /usr/local/sicstus4.5.1/bin/sp-4.5.1/sicstus-4.5.1/library/terms.po...\\\\\n",
       " %  module terms imported into clpfd\\\\\n",
       " %   module types imported into terms\\\\\n",
       " %   module avl imported into terms\\\\\n",
       " %  loaded /usr/local/sicstus4.5.1/bin/sp-4.5.1/sicstus-4.5.1/library/terms.po in module terms, 0 msec 46304 bytes\\\\\n",
       " %  loading /usr/local/sicstus4.5.1/bin/sp-4.5.1/sicstus-4.5.1/library/timeout.po...\\\\\n",
       " %  module timeout imported into clpfd\\\\\n",
       " %  loaded /usr/local/sicstus4.5.1/bin/sp-4.5.1/sicstus-4.5.1/library/timeout.po in module timeout, 0 msec 976 bytes\\\\\n",
       " %  loading foreign resource /usr/local/sicstus4.5.1/bin/sp-4.5.1/sicstus-4.5.1/library/x86_64-linux-glibc2.17/clpfd.so in module clpfd\\\\\n",
       " % loaded /usr/local/sicstus4.5.1/bin/sp-4.5.1/sicstus-4.5.1/library/clpfd.po in module clpfd, 89 msec 2137296 bytes"
      ],
      "text/markdown": [
       "<pre style=\"\n",
       "font-family: Menlo, Consolas, 'DejaVu Sans Mono', monospace;\n",
       "font-size: 13px;\n",
       "line-height: 1.3077;\n",
       "\">% loading /usr/local/sicstus4.5.1/bin/sp-4.5.1/sicstus-4.5.1/library/clpfd.po...\n",
       "% module clpfd imported into user\n",
       "%  loading /usr/local/sicstus4.5.1/bin/sp-4.5.1/sicstus-4.5.1/library/atts.po...\n",
       "%  module attributes imported into clpfd\n",
       "%   module types imported into attributes\n",
       "%  loaded /usr/local/sicstus4.5.1/bin/sp-4.5.1/sicstus-4.5.1/library/atts.po in module attributes, 3 msec 30544 bytes\n",
       "%  compiling /usr/local/sicstus4.5.1/bin/sp-4.5.1/sicstus-4.5.1/library/avl.pl...\n",
       "%   module avl imported into clpfd\n",
       "%  compiled /usr/local/sicstus4.5.1/bin/sp-4.5.1/sicstus-4.5.1/library/avl.pl in module avl, 16 msec 62768 bytes\n",
       "%  module lists imported into clpfd\n",
       "%  loading /usr/local/sicstus4.5.1/bin/sp-4.5.1/sicstus-4.5.1/library/ordsets.po...\n",
       "%  module ordsets imported into clpfd\n",
       "%  loaded /usr/local/sicstus4.5.1/bin/sp-4.5.1/sicstus-4.5.1/library/ordsets.po in module ordsets, 1 msec 45904 bytes\n",
       "%  loading /usr/local/sicstus4.5.1/bin/sp-4.5.1/sicstus-4.5.1/library/trees.po...\n",
       "%  module trees imported into clpfd\n",
       "%  loaded /usr/local/sicstus4.5.1/bin/sp-4.5.1/sicstus-4.5.1/library/trees.po in module trees, 2 msec 11488 bytes\n",
       "%  module types imported into clpfd\n",
       "%  loading /usr/local/sicstus4.5.1/bin/sp-4.5.1/sicstus-4.5.1/library/terms.po...\n",
       "%  module terms imported into clpfd\n",
       "%   module types imported into terms\n",
       "%   module avl imported into terms\n",
       "%  loaded /usr/local/sicstus4.5.1/bin/sp-4.5.1/sicstus-4.5.1/library/terms.po in module terms, 0 msec 46304 bytes\n",
       "%  loading /usr/local/sicstus4.5.1/bin/sp-4.5.1/sicstus-4.5.1/library/timeout.po...\n",
       "%  module timeout imported into clpfd\n",
       "%  loaded /usr/local/sicstus4.5.1/bin/sp-4.5.1/sicstus-4.5.1/library/timeout.po in module timeout, 0 msec 976 bytes\n",
       "%  loading foreign resource /usr/local/sicstus4.5.1/bin/sp-4.5.1/sicstus-4.5.1/library/x86_64-linux-glibc2.17/clpfd.so in module clpfd\n",
       "% loaded /usr/local/sicstus4.5.1/bin/sp-4.5.1/sicstus-4.5.1/library/clpfd.po in module clpfd, 89 msec 2137296 bytes</pre>"
      ],
      "text/plain": [
       "% loading /usr/local/sicstus4.5.1/bin/sp-4.5.1/sicstus-4.5.1/library/clpfd.po...\n",
       "% module clpfd imported into user\n",
       "%  loading /usr/local/sicstus4.5.1/bin/sp-4.5.1/sicstus-4.5.1/library/atts.po...\n",
       "%  module attributes imported into clpfd\n",
       "%   module types imported into attributes\n",
       "%  loaded /usr/local/sicstus4.5.1/bin/sp-4.5.1/sicstus-4.5.1/library/atts.po in module attributes, 3 msec 30544 bytes\n",
       "%  compiling /usr/local/sicstus4.5.1/bin/sp-4.5.1/sicstus-4.5.1/library/avl.pl...\n",
       "%   module avl imported into clpfd\n",
       "%  compiled /usr/local/sicstus4.5.1/bin/sp-4.5.1/sicstus-4.5.1/library/avl.pl in module avl, 16 msec 62768 bytes\n",
       "%  module lists imported into clpfd\n",
       "%  loading /usr/local/sicstus4.5.1/bin/sp-4.5.1/sicstus-4.5.1/library/ordsets.po...\n",
       "%  module ordsets imported into clpfd\n",
       "%  loaded /usr/local/sicstus4.5.1/bin/sp-4.5.1/sicstus-4.5.1/library/ordsets.po in module ordsets, 1 msec 45904 bytes\n",
       "%  loading /usr/local/sicstus4.5.1/bin/sp-4.5.1/sicstus-4.5.1/library/trees.po...\n",
       "%  module trees imported into clpfd\n",
       "%  loaded /usr/local/sicstus4.5.1/bin/sp-4.5.1/sicstus-4.5.1/library/trees.po in module trees, 2 msec 11488 bytes\n",
       "%  module types imported into clpfd\n",
       "%  loading /usr/local/sicstus4.5.1/bin/sp-4.5.1/sicstus-4.5.1/library/terms.po...\n",
       "%  module terms imported into clpfd\n",
       "%   module types imported into terms\n",
       "%   module avl imported into terms\n",
       "%  loaded /usr/local/sicstus4.5.1/bin/sp-4.5.1/sicstus-4.5.1/library/terms.po in module terms, 0 msec 46304 bytes\n",
       "%  loading /usr/local/sicstus4.5.1/bin/sp-4.5.1/sicstus-4.5.1/library/timeout.po...\n",
       "%  module timeout imported into clpfd\n",
       "%  loaded /usr/local/sicstus4.5.1/bin/sp-4.5.1/sicstus-4.5.1/library/timeout.po in module timeout, 0 msec 976 bytes\n",
       "%  loading foreign resource /usr/local/sicstus4.5.1/bin/sp-4.5.1/sicstus-4.5.1/library/x86_64-linux-glibc2.17/clpfd.so in module clpfd\n",
       "% loaded /usr/local/sicstus4.5.1/bin/sp-4.5.1/sicstus-4.5.1/library/clpfd.po in module clpfd, 89 msec 2137296 bytes"
      ]
     },
     "metadata": {},
     "output_type": "display_data"
    },
    {
     "data": {
      "text/latex": [
       "yes"
      ],
      "text/markdown": [
       "<pre style=\"\n",
       "font-family: Menlo, Consolas, 'DejaVu Sans Mono', monospace;\n",
       "font-size: 13px;\n",
       "line-height: 1.3077;\n",
       "font-weight: bold;\">yes</pre>"
      ],
      "text/plain": [
       "yes"
      ]
     },
     "metadata": {},
     "output_type": "display_data"
    }
   ],
   "source": [
    "use_module(library(clpfd))."
   ]
  },
  {
   "cell_type": "code",
   "execution_count": 24,
   "metadata": {},
   "outputs": [
    {
     "data": {
      "text/latex": [
       "X in 6..9"
      ],
      "text/markdown": [
       "<pre style=\"\n",
       "font-family: Menlo, Consolas, 'DejaVu Sans Mono', monospace;\n",
       "font-size: 13px;\n",
       "line-height: 1.3077;\n",
       "font-weight: bold;\">X in 6..9</pre>"
      ],
      "text/plain": [
       "X in 6..9"
      ]
     },
     "metadata": {},
     "output_type": "display_data"
    }
   ],
   "source": [
    "X #< 10, X #> 5."
   ]
  },
  {
   "cell_type": "markdown",
   "metadata": {
    "tags": []
   },
   "source": [
    "### Running Automated Tests <a id='automated_tests'></a>"
   ]
  },
  {
   "cell_type": "markdown",
   "metadata": {},
   "source": [
    "`library(plunit)` can be used to define and run automated tests.<br>\n",
    "Tests can either be defined in a file which is loaded or in a cell.<br>\n",
    "In the latter case, any definition of a `test/1` or `test/2` clause needs to be preceded by a `begin_tests` directive.<br>\n",
    "Additionally, if there is an optional `end_tests` directive, it needs to follow the test clauses.<br>\n",
    "Otherwise, they are not recognized as such.<br>"
   ]
  },
  {
   "cell_type": "code",
   "execution_count": 25,
   "metadata": {},
   "outputs": [
    {
     "data": {
      "text/latex": [
       "% compiling /media/storage/Uni/Masterarbeit/sicstus_kernel/notebooks/jupyter_tests.pl...\\\\\n",
       " %  loading /usr/local/sicstus4.5.1/bin/sp-4.5.1/sicstus-4.5.1/library/plunit.po...\\\\\n",
       " %  module plunit imported into user\\\\\n",
       " %   module lists imported into plunit\\\\\n",
       " %   module types imported into plunit\\\\\n",
       " %  loaded /usr/local/sicstus4.5.1/bin/sp-4.5.1/sicstus-4.5.1/library/plunit.po in module plunit, 5 msec 129264 bytes\\\\\n",
       " % compiled /media/storage/Uni/Masterarbeit/sicstus_kernel/notebooks/jupyter_tests.pl in module user, 11 msec 157440 bytes\\\\\n",
       " % Loaded the test file"
      ],
      "text/markdown": [
       "<pre style=\"\n",
       "font-family: Menlo, Consolas, 'DejaVu Sans Mono', monospace;\n",
       "font-size: 13px;\n",
       "line-height: 1.3077;\n",
       "\">% compiling /media/storage/Uni/Masterarbeit/sicstus_kernel/notebooks/jupyter_tests.pl...\n",
       "%  loading /usr/local/sicstus4.5.1/bin/sp-4.5.1/sicstus-4.5.1/library/plunit.po...\n",
       "%  module plunit imported into user\n",
       "%   module lists imported into plunit\n",
       "%   module types imported into plunit\n",
       "%  loaded /usr/local/sicstus4.5.1/bin/sp-4.5.1/sicstus-4.5.1/library/plunit.po in module plunit, 5 msec 129264 bytes\n",
       "% compiled /media/storage/Uni/Masterarbeit/sicstus_kernel/notebooks/jupyter_tests.pl in module user, 11 msec 157440 bytes\n",
       "% Loaded the test file</pre>"
      ],
      "text/plain": [
       "% compiling /media/storage/Uni/Masterarbeit/sicstus_kernel/notebooks/jupyter_tests.pl...\n",
       "%  loading /usr/local/sicstus4.5.1/bin/sp-4.5.1/sicstus-4.5.1/library/plunit.po...\n",
       "%  module plunit imported into user\n",
       "%   module lists imported into plunit\n",
       "%   module types imported into plunit\n",
       "%  loaded /usr/local/sicstus4.5.1/bin/sp-4.5.1/sicstus-4.5.1/library/plunit.po in module plunit, 5 msec 129264 bytes\n",
       "% compiled /media/storage/Uni/Masterarbeit/sicstus_kernel/notebooks/jupyter_tests.pl in module user, 11 msec 157440 bytes\n",
       "% Loaded the test file"
      ]
     },
     "metadata": {},
     "output_type": "display_data"
    }
   ],
   "source": [
    ":- begin_tests(list). \n",
    "\n",
    "test(list) :-\n",
    "  lists:is_list([]).\n",
    "\n",
    ":- end_tests(list)."
   ]
  },
  {
   "cell_type": "code",
   "execution_count": 26,
   "metadata": {},
   "outputs": [
    {
     "data": {
      "text/latex": [
       "% PL-Unit: list \\\\\n",
       " % /media/storage/Uni/Masterarbeit/sicstus_kernel/notebooks/jupyter_tests.pl:2:\\\\\n",
       " % \ttest list: succeeded (det) in 0.00 seconds\\\\\n",
       " % done\\\\\n",
       " % 1 tests passed"
      ],
      "text/markdown": [
       "<pre style=\"\n",
       "font-family: Menlo, Consolas, 'DejaVu Sans Mono', monospace;\n",
       "font-size: 13px;\n",
       "line-height: 1.3077;\n",
       "\">% PL-Unit: list \n",
       "% /media/storage/Uni/Masterarbeit/sicstus_kernel/notebooks/jupyter_tests.pl:2:\n",
       "% \ttest list: succeeded (det) in 0.00 seconds\n",
       "% done\n",
       "% 1 tests passed</pre>"
      ],
      "text/plain": [
       "% PL-Unit: list \n",
       "% /media/storage/Uni/Masterarbeit/sicstus_kernel/notebooks/jupyter_tests.pl:2:\n",
       "% \ttest list: succeeded (det) in 0.00 seconds\n",
       "% done\n",
       "% 1 tests passed"
      ]
     },
     "metadata": {},
     "output_type": "display_data"
    },
    {
     "data": {
      "text/latex": [
       "yes"
      ],
      "text/markdown": [
       "<pre style=\"\n",
       "font-family: Menlo, Consolas, 'DejaVu Sans Mono', monospace;\n",
       "font-size: 13px;\n",
       "line-height: 1.3077;\n",
       "font-weight: bold;\">yes</pre>"
      ],
      "text/plain": [
       "yes"
      ]
     },
     "metadata": {},
     "output_type": "display_data"
    }
   ],
   "source": [
    "run_tests."
   ]
  },
  {
   "cell_type": "markdown",
   "metadata": {},
   "source": [
    "It needs to be noted that after defining new test clauses in a different cell, the test unit of the previous ones still exists, but not the tests themselves.<br>\n",
    "Therefore, all tests which are to be run at the same time need to be defined in one cell.<br>"
   ]
  },
  {
   "cell_type": "code",
   "execution_count": 27,
   "metadata": {},
   "outputs": [
    {
     "data": {
      "text/latex": [
       "% compiling /media/storage/Uni/Masterarbeit/sicstus_kernel/notebooks/jupyter_tests.pl...\\\\\n",
       " % compiled /media/storage/Uni/Masterarbeit/sicstus_kernel/notebooks/jupyter_tests.pl in module user, 4 msec 2928 bytes\\\\\n",
       " % Loaded the test file"
      ],
      "text/markdown": [
       "<pre style=\"\n",
       "font-family: Menlo, Consolas, 'DejaVu Sans Mono', monospace;\n",
       "font-size: 13px;\n",
       "line-height: 1.3077;\n",
       "\">% compiling /media/storage/Uni/Masterarbeit/sicstus_kernel/notebooks/jupyter_tests.pl...\n",
       "% compiled /media/storage/Uni/Masterarbeit/sicstus_kernel/notebooks/jupyter_tests.pl in module user, 4 msec 2928 bytes\n",
       "% Loaded the test file</pre>"
      ],
      "text/plain": [
       "% compiling /media/storage/Uni/Masterarbeit/sicstus_kernel/notebooks/jupyter_tests.pl...\n",
       "% compiled /media/storage/Uni/Masterarbeit/sicstus_kernel/notebooks/jupyter_tests.pl in module user, 4 msec 2928 bytes\n",
       "% Loaded the test file"
      ]
     },
     "metadata": {},
     "output_type": "display_data"
    },
    {
     "data": {
      "text/latex": [
       "% PL-Unit: list \\\\\n",
       " % done\\\\\n",
       " % PL-Unit: number \\\\\n",
       " % /media/storage/Uni/Masterarbeit/sicstus_kernel/notebooks/jupyter_tests.pl:2:\\\\\n",
       " % \ttest number_failing: succeeded (det) in 0.00 seconds\\\\\n",
       " % done\\\\\n",
       " % 1 tests passed"
      ],
      "text/markdown": [
       "<pre style=\"\n",
       "font-family: Menlo, Consolas, 'DejaVu Sans Mono', monospace;\n",
       "font-size: 13px;\n",
       "line-height: 1.3077;\n",
       "\">% PL-Unit: list \n",
       "% done\n",
       "% PL-Unit: number \n",
       "% /media/storage/Uni/Masterarbeit/sicstus_kernel/notebooks/jupyter_tests.pl:2:\n",
       "% \ttest number_failing: succeeded (det) in 0.00 seconds\n",
       "% done\n",
       "% 1 tests passed</pre>"
      ],
      "text/plain": [
       "% PL-Unit: list \n",
       "% done\n",
       "% PL-Unit: number \n",
       "% /media/storage/Uni/Masterarbeit/sicstus_kernel/notebooks/jupyter_tests.pl:2:\n",
       "% \ttest number_failing: succeeded (det) in 0.00 seconds\n",
       "% done\n",
       "% 1 tests passed"
      ]
     },
     "metadata": {},
     "output_type": "display_data"
    },
    {
     "data": {
      "text/latex": [
       "yes"
      ],
      "text/markdown": [
       "<pre style=\"\n",
       "font-family: Menlo, Consolas, 'DejaVu Sans Mono', monospace;\n",
       "font-size: 13px;\n",
       "line-height: 1.3077;\n",
       "font-weight: bold;\">yes</pre>"
      ],
      "text/plain": [
       "yes"
      ]
     },
     "metadata": {},
     "output_type": "display_data"
    }
   ],
   "source": [
    ":- begin_tests(number). \n",
    "\n",
    "test(number_failing, [fail]) :-\n",
    "  number([]).\n",
    "  \n",
    ":- run_tests."
   ]
  },
  {
   "cell_type": "markdown",
   "metadata": {},
   "source": [
    "As mentioned above, redefinitions of predicates are always performed.<br>\n",
    "A file containing `plunit` test clauses defines the predicates `'unit body'/4` and `'unit test'/5`.<br>\n",
    "If test files with different names are loaded, these predicates are redefined and corresponding messages are output.<br>\n",
    "When defining tests in a cell, they are written to a file named jupyter_tests.pl which is loaded.<br>\n",
    "Since this file is named the same for every cell containing tests, when running multiple cells with test definitions, the redefinition warnings are not output for every execution.<br>"
   ]
  },
  {
   "cell_type": "code",
   "execution_count": 28,
   "metadata": {},
   "outputs": [
    {
     "data": {
      "text/latex": [
       "% compiling /media/storage/Uni/Masterarbeit/sicstus_kernel/notebooks/test.pl...\\\\\n",
       " * The procedure 'unit body'/4 is being redefined.\\\\\n",
       " *     Old file: /media/storage/Uni/Masterarbeit/sicstus_kernel/notebooks/jupyter_tests.pl\\\\\n",
       " *     New file: /media/storage/Uni/Masterarbeit/sicstus_kernel/notebooks/test.pl\\\\\n",
       " * Approximate lines: 12-13, file: '/media/storage/Uni/Masterarbeit/sicstus_kernel/notebooks/test.pl'\\\\\n",
       " % compiled /media/storage/Uni/Masterarbeit/sicstus_kernel/notebooks/test.pl in module user, 5 msec 8464 bytes"
      ],
      "text/markdown": [
       "<pre style=\"\n",
       "font-family: Menlo, Consolas, 'DejaVu Sans Mono', monospace;\n",
       "font-size: 13px;\n",
       "line-height: 1.3077;\n",
       "\">% compiling /media/storage/Uni/Masterarbeit/sicstus_kernel/notebooks/test.pl...\n",
       "* The procedure 'unit body'/4 is being redefined.\n",
       "*     Old file: /media/storage/Uni/Masterarbeit/sicstus_kernel/notebooks/jupyter_tests.pl\n",
       "*     New file: /media/storage/Uni/Masterarbeit/sicstus_kernel/notebooks/test.pl\n",
       "* Approximate lines: 12-13, file: '/media/storage/Uni/Masterarbeit/sicstus_kernel/notebooks/test.pl'\n",
       "% compiled /media/storage/Uni/Masterarbeit/sicstus_kernel/notebooks/test.pl in module user, 5 msec 8464 bytes</pre>"
      ],
      "text/plain": [
       "% compiling /media/storage/Uni/Masterarbeit/sicstus_kernel/notebooks/test.pl...\n",
       "* The procedure 'unit body'/4 is being redefined.\n",
       "*     Old file: /media/storage/Uni/Masterarbeit/sicstus_kernel/notebooks/jupyter_tests.pl\n",
       "*     New file: /media/storage/Uni/Masterarbeit/sicstus_kernel/notebooks/test.pl\n",
       "* Approximate lines: 12-13, file: '/media/storage/Uni/Masterarbeit/sicstus_kernel/notebooks/test.pl'\n",
       "% compiled /media/storage/Uni/Masterarbeit/sicstus_kernel/notebooks/test.pl in module user, 5 msec 8464 bytes"
      ]
     },
     "metadata": {},
     "output_type": "display_data"
    },
    {
     "data": {
      "text/latex": [
       "yes"
      ],
      "text/markdown": [
       "<pre style=\"\n",
       "font-family: Menlo, Consolas, 'DejaVu Sans Mono', monospace;\n",
       "font-size: 13px;\n",
       "line-height: 1.3077;\n",
       "font-weight: bold;\">yes</pre>"
      ],
      "text/plain": [
       "yes"
      ]
     },
     "metadata": {},
     "output_type": "display_data"
    }
   ],
   "source": [
    "[test]."
   ]
  },
  {
   "cell_type": "code",
   "execution_count": 29,
   "metadata": {},
   "outputs": [
    {
     "data": {
      "text/latex": [
       "% PL-Unit: list \\\\\n",
       " % done\\\\\n",
       " % PL-Unit: number \\\\\n",
       " % done\\\\\n",
       " % PL-Unit: test \\\\\n",
       " % /media/storage/Uni/Masterarbeit/sicstus_kernel/notebooks/test.pl:13:\\\\\n",
       " % \ttest a: succeeded (det) in 0.00 seconds\\\\\n",
       " % /media/storage/Uni/Masterarbeit/sicstus_kernel/notebooks/test.pl:16:\\\\\n",
       " % \ttest b: succeeded (det) in 0.00 seconds\\\\\n",
       " % /media/storage/Uni/Masterarbeit/sicstus_kernel/notebooks/test.pl:19:\\\\\n",
       " % \ttest c: succeeded (det) in 0.00 seconds\\\\\n",
       " % done\\\\\n",
       " % 3 tests passed"
      ],
      "text/markdown": [
       "<pre style=\"\n",
       "font-family: Menlo, Consolas, 'DejaVu Sans Mono', monospace;\n",
       "font-size: 13px;\n",
       "line-height: 1.3077;\n",
       "\">% PL-Unit: list \n",
       "% done\n",
       "% PL-Unit: number \n",
       "% done\n",
       "% PL-Unit: test \n",
       "% /media/storage/Uni/Masterarbeit/sicstus_kernel/notebooks/test.pl:13:\n",
       "% \ttest a: succeeded (det) in 0.00 seconds\n",
       "% /media/storage/Uni/Masterarbeit/sicstus_kernel/notebooks/test.pl:16:\n",
       "% \ttest b: succeeded (det) in 0.00 seconds\n",
       "% /media/storage/Uni/Masterarbeit/sicstus_kernel/notebooks/test.pl:19:\n",
       "% \ttest c: succeeded (det) in 0.00 seconds\n",
       "% done\n",
       "% 3 tests passed</pre>"
      ],
      "text/plain": [
       "% PL-Unit: list \n",
       "% done\n",
       "% PL-Unit: number \n",
       "% done\n",
       "% PL-Unit: test \n",
       "% /media/storage/Uni/Masterarbeit/sicstus_kernel/notebooks/test.pl:13:\n",
       "% \ttest a: succeeded (det) in 0.00 seconds\n",
       "% /media/storage/Uni/Masterarbeit/sicstus_kernel/notebooks/test.pl:16:\n",
       "% \ttest b: succeeded (det) in 0.00 seconds\n",
       "% /media/storage/Uni/Masterarbeit/sicstus_kernel/notebooks/test.pl:19:\n",
       "% \ttest c: succeeded (det) in 0.00 seconds\n",
       "% done\n",
       "% 3 tests passed"
      ]
     },
     "metadata": {},
     "output_type": "display_data"
    },
    {
     "data": {
      "text/latex": [
       "yes"
      ],
      "text/markdown": [
       "<pre style=\"\n",
       "font-family: Menlo, Consolas, 'DejaVu Sans Mono', monospace;\n",
       "font-size: 13px;\n",
       "line-height: 1.3077;\n",
       "font-weight: bold;\">yes</pre>"
      ],
      "text/plain": [
       "yes"
      ]
     },
     "metadata": {},
     "output_type": "display_data"
    }
   ],
   "source": [
    "run_tests."
   ]
  },
  {
   "cell_type": "markdown",
   "metadata": {
    "tags": []
   },
   "source": [
    "### Benchmarking Capabilities <a id='benchmarking'></a>"
   ]
  },
  {
   "cell_type": "markdown",
   "metadata": {},
   "source": [
    "Whenever a query is executed, its runtime is stored in a database.<br>\n",
    "It can be accessed by calling `jupyter:previous_query_time(Goal, Time)`.<br>\n",
    "`Goal` is the previous goal which was executed and `Time` is the time in milliseconds it took the query to complete."
   ]
  },
  {
   "cell_type": "code",
   "execution_count": 30,
   "metadata": {},
   "outputs": [
    {
     "data": {
      "text/latex": [
       "M = 1"
      ],
      "text/markdown": [
       "<pre style=\"\n",
       "font-family: Menlo, Consolas, 'DejaVu Sans Mono', monospace;\n",
       "font-size: 13px;\n",
       "line-height: 1.3077;\n",
       "font-weight: bold;\">M = 1</pre>"
      ],
      "text/plain": [
       "M = 1"
      ]
     },
     "metadata": {},
     "output_type": "display_data"
    }
   ],
   "source": [
    "member(M, [1,2,3])."
   ]
  },
  {
   "cell_type": "code",
   "execution_count": 31,
   "metadata": {},
   "outputs": [
    {
     "data": {
      "text/latex": [
       "Goal = member(M,[1,2,3]),\\\\\n",
       " Time = 0"
      ],
      "text/markdown": [
       "<pre style=\"\n",
       "font-family: Menlo, Consolas, 'DejaVu Sans Mono', monospace;\n",
       "font-size: 13px;\n",
       "line-height: 1.3077;\n",
       "font-weight: bold;\">Goal = member(M,[1,2,3]),\n",
       "Time = 0</pre>"
      ],
      "text/plain": [
       "Goal = member(M,[1,2,3]),\n",
       "Time = 0"
      ]
     },
     "metadata": {},
     "output_type": "display_data"
    }
   ],
   "source": [
    "jupyter:previous_query_time(Goal, Time)."
   ]
  },
  {
   "cell_type": "markdown",
   "metadata": {
    "tags": []
   },
   "source": [
    "### Debugging <a id='debugging'></a>"
   ]
  },
  {
   "cell_type": "markdown",
   "metadata": {},
   "source": [
    "In a Jupyter notebook, debugging cannot be performed interactively as user input is not supported during the execution of a cell.<br>\n",
    "Thus, switching on trace mode with `trace/0` would cause the server to stop at an invocation (and a restart is required).<br>\n",
    "However, the call stack can be accessed by defining breakpoints which cause debugging messages to be printed.<br>\n",
    "As this mechanism might be difficult, the predicate `jupyter:trace(Goal)` was implemented.<br>\n",
    "It switches on trace mode, calls the goal `Goal` and switches debug mode off.<br>\n",
    "By default, all ports are unleashed and included in the output, which means that no user interaction is requested when a breakpoint is activated.<br>\n",
    "In order to be recognized as a special goal, the call of `jupyter:trace/1` needs to be the only one in a term.<br>"
   ]
  },
  {
   "cell_type": "code",
   "execution_count": 32,
   "metadata": {},
   "outputs": [
    {
     "data": {
      "text/html": [
       "\n",
       "            <style>\n",
       "            details  {\n",
       "            \n",
       "font-family: Menlo, Consolas, 'DejaVu Sans Mono', monospace;\n",
       "font-size: 13px;\n",
       "line-height: 1.3077;\n",
       "\n",
       "            }\n",
       "\n",
       "            details > summary {\n",
       "              cursor: pointer;\n",
       "            }\n",
       "            </style>\n",
       "            <details><summary>Some previously defined clauses were retracted (click to expand)</summary><details open><summary>user:app/3</summary><pre>app([], A, A) :- !.\n",
       "app([A|B], C, [A|D]) :-\n",
       "        app(B, C, D).\n",
       "</pre><br></details></details>"
      ],
      "text/plain": [
       "Some previously defined clauses were retracted:\n",
       "user:app/3:\n",
       "app([], A, A) :- !.\n",
       "app([A|B], C, [A|D]) :-\n",
       "        app(B, C, D).\n",
       "\n"
      ]
     },
     "metadata": {
      "application/json": {}
     },
     "output_type": "display_data"
    },
    {
     "data": {
      "text/latex": [
       "% Asserting clauses for user:app/3\\\\\n",
       " "
      ],
      "text/markdown": [
       "<pre style=\"\n",
       "font-family: Menlo, Consolas, 'DejaVu Sans Mono', monospace;\n",
       "font-size: 13px;\n",
       "line-height: 1.3077;\n",
       "\">% Asserting clauses for user:app/3\n",
       "</pre>"
      ],
      "text/plain": [
       "% Asserting clauses for user:app/3\n"
      ]
     },
     "metadata": {},
     "output_type": "display_data"
    },
    {
     "data": {
      "text/html": [
       "\n",
       "            <style>\n",
       "            details  {\n",
       "            \n",
       "font-family: Menlo, Consolas, 'DejaVu Sans Mono', monospace;\n",
       "font-size: 13px;\n",
       "line-height: 1.3077;\n",
       "\n",
       "            }\n",
       "\n",
       "            details > summary {\n",
       "              cursor: pointer;\n",
       "            }\n",
       "            </style>\n",
       "            <details><summary>Some previously defined clauses were retracted (click to expand)</summary><details open><summary>user:app/4</summary><pre>app(A, B, C, D) :-\n",
       "        app(B, C, E),\n",
       "        app(A, E, D).\n",
       "</pre><br></details></details>"
      ],
      "text/plain": [
       "Some previously defined clauses were retracted:\n",
       "user:app/4:\n",
       "app(A, B, C, D) :-\n",
       "        app(B, C, E),\n",
       "        app(A, E, D).\n",
       "\n"
      ]
     },
     "metadata": {
      "application/json": {}
     },
     "output_type": "display_data"
    },
    {
     "data": {
      "text/latex": [
       "% Asserting clauses for user:app/4\\\\\n",
       " "
      ],
      "text/markdown": [
       "<pre style=\"\n",
       "font-family: Menlo, Consolas, 'DejaVu Sans Mono', monospace;\n",
       "font-size: 13px;\n",
       "line-height: 1.3077;\n",
       "\">% Asserting clauses for user:app/4\n",
       "</pre>"
      ],
      "text/plain": [
       "% Asserting clauses for user:app/4\n"
      ]
     },
     "metadata": {},
     "output_type": "display_data"
    }
   ],
   "source": [
    "app([], Res, Res) :- !.\n",
    "app([Head|Tail], List, [Head|Res]) :-\n",
    "  app(Tail, List, Res).\n",
    "  \n",
    "app(L1, L2, L3, Res) :-\n",
    "  app(L2, L3, R1),\n",
    "  app(L1, R1, Res)."
   ]
  },
  {
   "cell_type": "code",
   "execution_count": 33,
   "metadata": {},
   "outputs": [
    {
     "data": {
      "text/latex": [
       "        1      1 Call: app([1],[2],_515343)\\\\\n",
       "         2      2 Call: app([],[2],_519127)\\\\\n",
       "         2      2 Exit: app([],[2],[2])\\\\\n",
       "         1      1 Exit: app([1],[2],[1,2])"
      ],
      "text/markdown": [
       "<pre style=\"\n",
       "font-family: Menlo, Consolas, 'DejaVu Sans Mono', monospace;\n",
       "font-size: 13px;\n",
       "line-height: 1.3077;\n",
       "\">        1      1 Call: app([1],[2],_515343)\n",
       "        2      2 Call: app([],[2],_519127)\n",
       "        2      2 Exit: app([],[2],[2])\n",
       "        1      1 Exit: app([1],[2],[1,2])</pre>"
      ],
      "text/plain": [
       "        1      1 Call: app([1],[2],_515343)\n",
       "        2      2 Call: app([],[2],_519127)\n",
       "        2      2 Exit: app([],[2],[2])\n",
       "        1      1 Exit: app([1],[2],[1,2])"
      ]
     },
     "metadata": {},
     "output_type": "display_data"
    },
    {
     "data": {
      "text/latex": [
       "R = [1,2]"
      ],
      "text/markdown": [
       "<pre style=\"\n",
       "font-family: Menlo, Consolas, 'DejaVu Sans Mono', monospace;\n",
       "font-size: 13px;\n",
       "line-height: 1.3077;\n",
       "font-weight: bold;\">R = [1,2]</pre>"
      ],
      "text/plain": [
       "R = [1,2]"
      ]
     },
     "metadata": {},
     "output_type": "display_data"
    }
   ],
   "source": [
    "jupyter:trace(app([1], [2], R))."
   ]
  },
  {
   "cell_type": "markdown",
   "metadata": {},
   "source": [
    "As mentioned above, when a breakpoint is activated, user interaction must not be required.<br>\n",
    "In order to prevent this, a breakpoint should be created with the option `proceed` so that on activation the execution is continued without stopping.<br>"
   ]
  },
  {
   "cell_type": "code",
   "execution_count": 34,
   "metadata": {},
   "outputs": [
    {
     "data": {
      "text/latex": [
       "% The debugger will first zip -- showing spypoints (zip)\\\\\n",
       " % Conditional spypoint for user:app/3 added, BID=1"
      ],
      "text/markdown": [
       "<pre style=\"\n",
       "font-family: Menlo, Consolas, 'DejaVu Sans Mono', monospace;\n",
       "font-size: 13px;\n",
       "line-height: 1.3077;\n",
       "\">% The debugger will first zip -- showing spypoints (zip)\n",
       "% Conditional spypoint for user:app/3 added, BID=1</pre>"
      ],
      "text/plain": [
       "% The debugger will first zip -- showing spypoints (zip)\n",
       "% Conditional spypoint for user:app/3 added, BID=1"
      ]
     },
     "metadata": {},
     "output_type": "display_data"
    },
    {
     "data": {
      "text/latex": [
       "yes"
      ],
      "text/markdown": [
       "<pre style=\"\n",
       "font-family: Menlo, Consolas, 'DejaVu Sans Mono', monospace;\n",
       "font-size: 13px;\n",
       "line-height: 1.3077;\n",
       "font-weight: bold;\">yes</pre>"
      ],
      "text/plain": [
       "yes"
      ]
     },
     "metadata": {},
     "output_type": "display_data"
    }
   ],
   "source": [
    "add_breakpoint(pred(app/3)-[print-[1], proceed], _). % print the first argument in the debugging message"
   ]
  },
  {
   "cell_type": "code",
   "execution_count": 35,
   "metadata": {},
   "outputs": [
    {
     "data": {
      "text/latex": [
       " *      4      1 Call: ^1 [1]\\\\\n",
       "  *      5      2 Call: ^1 []\\\\\n",
       "  *      5      2 Exit: ^1 []\\\\\n",
       "  *      4      1 Exit: ^1 [1]"
      ],
      "text/markdown": [
       "<pre style=\"\n",
       "font-family: Menlo, Consolas, 'DejaVu Sans Mono', monospace;\n",
       "font-size: 13px;\n",
       "line-height: 1.3077;\n",
       "\"> *      4      1 Call: ^1 [1]\n",
       " *      5      2 Call: ^1 []\n",
       " *      5      2 Exit: ^1 []\n",
       " *      4      1 Exit: ^1 [1]</pre>"
      ],
      "text/plain": [
       " *      4      1 Call: ^1 [1]\n",
       " *      5      2 Call: ^1 []\n",
       " *      5      2 Exit: ^1 []\n",
       " *      4      1 Exit: ^1 [1]"
      ]
     },
     "metadata": {},
     "output_type": "display_data"
    },
    {
     "data": {
      "text/latex": [
       "R = [1,2]"
      ],
      "text/markdown": [
       "<pre style=\"\n",
       "font-family: Menlo, Consolas, 'DejaVu Sans Mono', monospace;\n",
       "font-size: 13px;\n",
       "line-height: 1.3077;\n",
       "font-weight: bold;\">R = [1,2]</pre>"
      ],
      "text/plain": [
       "R = [1,2]"
      ]
     },
     "metadata": {},
     "output_type": "display_data"
    }
   ],
   "source": [
    "app([1], [2], R)."
   ]
  },
  {
   "cell_type": "markdown",
   "metadata": {},
   "source": [
    "All created breakpoints are still active during a `jupyter:trace/1` call."
   ]
  },
  {
   "cell_type": "code",
   "execution_count": 36,
   "metadata": {},
   "outputs": [
    {
     "data": {
      "text/latex": [
       "        6      1 Call: app([1],[2],[3],[1,2,3])\\\\\n",
       "  *      7      2 Call: ^1 [2]\\\\\n",
       "  *      8      3 Call: ^1 []\\\\\n",
       "  *      8      3 Exit: ^1 []\\\\\n",
       "  *      7      2 Exit: ^1 [2]\\\\\n",
       "  *      9      2 Call: ^1 [1]\\\\\n",
       "  *     10      3 Call: ^1 []\\\\\n",
       "  *     10      3 Exit: ^1 []\\\\\n",
       "  *      9      2 Exit: ^1 [1]\\\\\n",
       "         6      1 Exit: app([1],[2],[3],[1,2,3])"
      ],
      "text/markdown": [
       "<pre style=\"\n",
       "font-family: Menlo, Consolas, 'DejaVu Sans Mono', monospace;\n",
       "font-size: 13px;\n",
       "line-height: 1.3077;\n",
       "\">        6      1 Call: app([1],[2],[3],[1,2,3])\n",
       " *      7      2 Call: ^1 [2]\n",
       " *      8      3 Call: ^1 []\n",
       " *      8      3 Exit: ^1 []\n",
       " *      7      2 Exit: ^1 [2]\n",
       " *      9      2 Call: ^1 [1]\n",
       " *     10      3 Call: ^1 []\n",
       " *     10      3 Exit: ^1 []\n",
       " *      9      2 Exit: ^1 [1]\n",
       "        6      1 Exit: app([1],[2],[3],[1,2,3])</pre>"
      ],
      "text/plain": [
       "        6      1 Call: app([1],[2],[3],[1,2,3])\n",
       " *      7      2 Call: ^1 [2]\n",
       " *      8      3 Call: ^1 []\n",
       " *      8      3 Exit: ^1 []\n",
       " *      7      2 Exit: ^1 [2]\n",
       " *      9      2 Call: ^1 [1]\n",
       " *     10      3 Call: ^1 []\n",
       " *     10      3 Exit: ^1 []\n",
       " *      9      2 Exit: ^1 [1]\n",
       "        6      1 Exit: app([1],[2],[3],[1,2,3])"
      ]
     },
     "metadata": {},
     "output_type": "display_data"
    },
    {
     "data": {
      "text/latex": [
       "yes"
      ],
      "text/markdown": [
       "<pre style=\"\n",
       "font-family: Menlo, Consolas, 'DejaVu Sans Mono', monospace;\n",
       "font-size: 13px;\n",
       "line-height: 1.3077;\n",
       "font-weight: bold;\">yes</pre>"
      ],
      "text/plain": [
       "yes"
      ]
     },
     "metadata": {},
     "output_type": "display_data"
    }
   ],
   "source": [
    "jupyter:trace((app([1], [2], [3], [1,2,3])))."
   ]
  },
  {
   "cell_type": "markdown",
   "metadata": {
    "tags": []
   },
   "source": [
    "## Jupyter Convenience Features"
   ]
  },
  {
   "cell_type": "markdown",
   "metadata": {
    "tags": []
   },
   "source": [
    "### Introspection <a id='introspection'></a>"
   ]
  },
  {
   "cell_type": "markdown",
   "metadata": {
    "tags": []
   },
   "source": [
    "#### Code Completion (Tab) <a id='code_completion'></a>\n",
    "In JupyterLab as well as Jupyter Notebook, code completion for the token at the current cursor position can be requested by pressing the Tab key.<br>\n",
    "If there is a single possible match, the code preceding the cursor is replaced directly.<br>\n",
    "Otherwise, a list of options is shown from which the user can choose one.<br>\n",
    "Completion can be used for predicates which are built-in or exported by a loaded module.<br>\n",
    "It is also possible to display all predicates of a module, which is especially useful for retrieving all the special predicates defined by the module `jupyter`."
   ]
  },
  {
   "cell_type": "markdown",
   "metadata": {},
   "source": [
    "#### Inspection (Shift+Tab) <a id='inspection'></a>\n",
    "By pressing Shift+Tab, inspection for the token preceding the current cursor position can be requested.<br>\n",
    "In contrast to some other kernels, the SICStus kernel does not show the docstring for most predicates right away.<br>\n",
    "Instead, for all predicates which the [Predicate Index page](https://sicstus.sics.se/sicstus/docs/latest/html/sicstus.html/Predicate-Index.html) lists,\n",
    "a link to the documentation of the corresponding predicate is shown if the predicate's name contains the current token.<br>\n",
    "The data shown about the predicate is the same as shown on the web page.<br>\n",
    "In most cases, it includes the predicate's name, arity, and information such as if it is built-in or the library's name.<br>\n",
    "For JupyterLab, clickable hyperlinks can be displayed;\n",
    "since this is not possible for Jupyter Notebook, the links are only given to be copied.<br>\n",
    "However, for predicates from the module `jupyter`, the documentation is displayed."
   ]
  },
  {
   "cell_type": "markdown",
   "metadata": {
    "tags": []
   },
   "source": [
    "#### Accessing `jupyter` documentation <a id='jupyter_docs'></a>\n",
    "\n",
    "Most of the features below are provided by the module `jupyter` which is used by the Prolog server.<br>\n",
    "In addition to the inspection, the documentation of all predicates defined in this module can be accessed with `jupyter:help/0`.<br>\n",
    "If the predicate is called without the module name expansion and it is not defined in the current module `user`, the corresponding error message is displayed followed by a note that there is `jupyter:help/0`.<br>\n",
    "However, if `user:help/0` is defined, calling it works as expected without any special output for the `jupyter` predicate.<br>"
   ]
  },
  {
   "cell_type": "code",
   "execution_count": null,
   "metadata": {},
   "outputs": [
    {
     "data": {
      "text/latex": [
       "! Existence error in user:help/0\\\\\n",
       " ! procedure user:help/0 does not exist\\\\\n",
       " ! goal:  user:help\\\\\n",
       " ! \\\\\n",
       " ! However, there is the predicate jupyter:help/0\\\\\n",
       " "
      ],
      "text/markdown": [
       "<pre style=\"\n",
       "font-family: Menlo, Consolas, 'DejaVu Sans Mono', monospace;\n",
       "font-size: 13px;\n",
       "line-height: 1.3077;\n",
       "color:red; font-weight:bold;\">! Existence error in user:help/0\n",
       "! procedure user:help/0 does not exist\n",
       "! goal:  user:help\n",
       "! \n",
       "! However, there is the predicate jupyter:help/0\n",
       "</pre>"
      ],
      "text/plain": [
       "! Existence error in user:help/0\n",
       "! procedure user:help/0 does not exist\n",
       "! goal:  user:help\n",
       "! \n",
       "! However, there is the predicate jupyter:help/0\n"
      ]
     },
     "metadata": {},
     "output_type": "display_data"
    }
   ],
   "source": [
    "help."
   ]
  },
  {
   "cell_type": "code",
   "execution_count": 38,
   "metadata": {},
   "outputs": [
    {
     "data": {
      "text/latex": [
       "jupyter:help\\\\\n",
       " \\\\\n",
       "     Outputs the documentation for all predicates from module jupyter.\\\\\n",
       " \\\\\n",
       " --------------------------------------------------------------------------------\\\\\n",
       " \\\\\n",
       " jupyter:halt or halt\\\\\n",
       " \\\\\n",
       "     Shuts down the running Prolog process.\\\\\n",
       " \\\\\n",
       "     The next time code is to be executed, a new process is started.\\\\\n",
       "     Everything defined in the database before does not exist anymore.\\\\\n",
       " \\\\\n",
       "     Corresponds to the functionality of halt/0.\\\\\n",
       "     Has the same effect as interrupting or restarting the Jupyter kernel.\\\\\n",
       " \\\\\n",
       " --------------------------------------------------------------------------------\\\\\n",
       " \\\\\n",
       " jupyter:retry or retry\\\\\n",
       " \\\\\n",
       "     Causes backtracking of the latest active query.\\\\\n",
       " \\\\\n",
       "     In general, the previous query is the active one.\\\\\n",
       "     However, the previous active query can be activated again.\\\\\n",
       "     This can be done by cutting off choicepoints with jupyter:cut/0.\\\\\n",
       "     This is also the case if a retry/0 encounters no further solutions.\\\\\n",
       " \\\\\n",
       "     Needs to be the only goal of a query.\\\\\n",
       " \\\\\n",
       " --------------------------------------------------------------------------------\\\\\n",
       " \\\\\n",
       " jupyter:cut or cut\\\\\n",
       " \\\\\n",
       "     Cuts off the choicepoints of the latest active query.\\\\\n",
       " \\\\\n",
       "     In general, the previous query is the active one.\\\\\n",
       "     However, the previous active query can be activated again.\\\\\n",
       "     This can be done by cutting off choicepoints with jupyter:cut/0.\\\\\n",
       "     This is also the case if a retry/0 encounters no further solutions.\\\\\n",
       " \\\\\n",
       "     A further retry/0 call causes backtracking of the previous active goal.\\\\\n",
       " \\\\\n",
       "     Needs to be the only goal of a query.\\\\\n",
       " \\\\\n",
       " --------------------------------------------------------------------------------\\\\\n",
       " \\\\\n",
       " jupyter:trace(+Goal)\\\\\n",
       " \\\\\n",
       "     Prints the trace of the goal Goal.\\\\\n",
       "     By default, no port is leashed so that no user interaction is requested.\\\\\n",
       "     All previously set breakpoints are still active.\\\\\n",
       " \\\\\n",
       "     Needs to be the only goal of a query in order to work as expected.\\\\\n",
       " \\\\\n",
       " --------------------------------------------------------------------------------\\\\\n",
       " \\\\\n",
       " jupyter:print_variable_bindings\\\\\n",
       " \\\\\n",
       "     Prints variable bindings from previous queries.\\\\\n",
       "     For each variable, the latest value it was bound to is shown.\\\\\n",
       " \\\\\n",
       "     The variable value can be accessed with a $Var term by any query.\\\\\n",
       "     In that case, the term is replaced by the value.\\\\\n",
       "     If there is no previous value, an error message is printed.\\\\\n",
       " \\\\\n",
       " --------------------------------------------------------------------------------\\\\\n",
       " \\\\\n",
       " jupyter:print_table(+Goal)\\\\\n",
       " \\\\\n",
       "     Computes all results of the goal Goal with findall/3.\\\\\n",
       "     These are printed in a table.\\\\\n",
       " \\\\\n",
       "     Needs to be the only goal of a query.\\\\\n",
       " \\\\\n",
       "     Example: jupyter:print_table(prolog_flag(FlagName, Value)).\\\\\n",
       " \\\\\n",
       " --------------------------------------------------------------------------------\\\\\n",
       " \\\\\n",
       " jupyter:print_table(+ValuesLists, +VariableNames)\\\\\n",
       " \\\\\n",
       "     Prints a table of the values in ValuesLists.\\\\\n",
       " \\\\\n",
       "     ValuesLists is a list of lists of the same length.\\\\\n",
       "     Each list corresponds to one line of the table.\\\\\n",
       " \\\\\n",
       "     VariableNames is used to fill the header of the table.\\\\\n",
       "     If VariableNames=[], capital letters are used.\\\\\n",
       "     Otherwise, VariableNames needs to be a list of ground terms.\\\\\n",
       "     It needs to be of the same length as the values lists.\\\\\n",
       " \\\\\n",
       "     Needs to be the only goal of a query.\\\\\n",
       " \\\\\n",
       "     Can be used with a predicate like findall/3, but not directly.\\\\\n",
       "     Instead, a previous binding can be accessed with a $Var term.\\\\\n",
       " \\\\\n",
       "     Examples:\\\\\n",
       "         jupyter:print_table([[10,100],[20,400],[30,900]], ['X', 'Y']).\\\\\n",
       "         jupyter:print_table($ResultLists, []).\\\\\n",
       " \\\\\n",
       " --------------------------------------------------------------------------------\\\\\n",
       " \\\\\n",
       " jupyter:previous_query_time(-Goal, -Runtime)\\\\\n",
       " \\\\\n",
       "     Goal is the previously executed goal.\\\\\n",
       "     Time is the time in milliseconds it took the query to complete.\\\\\n",
       " \\\\\n",
       " --------------------------------------------------------------------------------\\\\\n",
       " \\\\\n",
       " jupyter:print_previous_queries(+Ids)\\\\\n",
       " \\\\\n",
       "     Prints previous queries which were exectued in requests with IDs in Ids.\\\\\n",
       " \\\\\n",
       "     Any $Var terms might be replaced by the variable's name.\\\\\n",
       "     This is the case if a previous query with ID in Ids contains Var.\\\\\n",
       "     Otherwise, $Var is not replaced."
      ],
      "text/markdown": [
       "<pre style=\"\n",
       "font-family: Menlo, Consolas, 'DejaVu Sans Mono', monospace;\n",
       "font-size: 13px;\n",
       "line-height: 1.3077;\n",
       "\">jupyter:help\n",
       "\n",
       "    Outputs the documentation for all predicates from module jupyter.\n",
       "\n",
       "--------------------------------------------------------------------------------\n",
       "\n",
       "jupyter:halt or halt\n",
       "\n",
       "    Shuts down the running Prolog process.\n",
       "\n",
       "    The next time code is to be executed, a new process is started.\n",
       "    Everything defined in the database before does not exist anymore.\n",
       "\n",
       "    Corresponds to the functionality of halt/0.\n",
       "    Has the same effect as interrupting or restarting the Jupyter kernel.\n",
       "\n",
       "--------------------------------------------------------------------------------\n",
       "\n",
       "jupyter:retry or retry\n",
       "\n",
       "    Causes backtracking of the latest active query.\n",
       "\n",
       "    In general, the previous query is the active one.\n",
       "    However, the previous active query can be activated again.\n",
       "    This can be done by cutting off choicepoints with jupyter:cut/0.\n",
       "    This is also the case if a retry/0 encounters no further solutions.\n",
       "\n",
       "    Needs to be the only goal of a query.\n",
       "\n",
       "--------------------------------------------------------------------------------\n",
       "\n",
       "jupyter:cut or cut\n",
       "\n",
       "    Cuts off the choicepoints of the latest active query.\n",
       "\n",
       "    In general, the previous query is the active one.\n",
       "    However, the previous active query can be activated again.\n",
       "    This can be done by cutting off choicepoints with jupyter:cut/0.\n",
       "    This is also the case if a retry/0 encounters no further solutions.\n",
       "\n",
       "    A further retry/0 call causes backtracking of the previous active goal.\n",
       "\n",
       "    Needs to be the only goal of a query.\n",
       "\n",
       "--------------------------------------------------------------------------------\n",
       "\n",
       "jupyter:trace(+Goal)\n",
       "\n",
       "    Prints the trace of the goal Goal.\n",
       "    By default, no port is leashed so that no user interaction is requested.\n",
       "    All previously set breakpoints are still active.\n",
       "\n",
       "    Needs to be the only goal of a query in order to work as expected.\n",
       "\n",
       "--------------------------------------------------------------------------------\n",
       "\n",
       "jupyter:print_variable_bindings\n",
       "\n",
       "    Prints variable bindings from previous queries.\n",
       "    For each variable, the latest value it was bound to is shown.\n",
       "\n",
       "    The variable value can be accessed with a $Var term by any query.\n",
       "    In that case, the term is replaced by the value.\n",
       "    If there is no previous value, an error message is printed.\n",
       "\n",
       "--------------------------------------------------------------------------------\n",
       "\n",
       "jupyter:print_table(+Goal)\n",
       "\n",
       "    Computes all results of the goal Goal with findall/3.\n",
       "    These are printed in a table.\n",
       "\n",
       "    Needs to be the only goal of a query.\n",
       "\n",
       "    Example: jupyter:print_table(prolog_flag(FlagName, Value)).\n",
       "\n",
       "--------------------------------------------------------------------------------\n",
       "\n",
       "jupyter:print_table(+ValuesLists, +VariableNames)\n",
       "\n",
       "    Prints a table of the values in ValuesLists.\n",
       "\n",
       "    ValuesLists is a list of lists of the same length.\n",
       "    Each list corresponds to one line of the table.\n",
       "\n",
       "    VariableNames is used to fill the header of the table.\n",
       "    If VariableNames=[], capital letters are used.\n",
       "    Otherwise, VariableNames needs to be a list of ground terms.\n",
       "    It needs to be of the same length as the values lists.\n",
       "\n",
       "    Needs to be the only goal of a query.\n",
       "\n",
       "    Can be used with a predicate like findall/3, but not directly.\n",
       "    Instead, a previous binding can be accessed with a $Var term.\n",
       "\n",
       "    Examples:\n",
       "        jupyter:print_table([[10,100],[20,400],[30,900]], ['X', 'Y']).\n",
       "        jupyter:print_table($ResultLists, []).\n",
       "\n",
       "--------------------------------------------------------------------------------\n",
       "\n",
       "jupyter:previous_query_time(-Goal, -Runtime)\n",
       "\n",
       "    Goal is the previously executed goal.\n",
       "    Time is the time in milliseconds it took the query to complete.\n",
       "\n",
       "--------------------------------------------------------------------------------\n",
       "\n",
       "jupyter:print_previous_queries(+Ids)\n",
       "\n",
       "    Prints previous queries which were exectued in requests with IDs in Ids.\n",
       "\n",
       "    Any $Var terms might be replaced by the variable's name.\n",
       "    This is the case if a previous query with ID in Ids contains Var.\n",
       "    Otherwise, $Var is not replaced.</pre>"
      ],
      "text/plain": [
       "jupyter:help\n",
       "\n",
       "    Outputs the documentation for all predicates from module jupyter.\n",
       "\n",
       "--------------------------------------------------------------------------------\n",
       "\n",
       "jupyter:halt or halt\n",
       "\n",
       "    Shuts down the running Prolog process.\n",
       "\n",
       "    The next time code is to be executed, a new process is started.\n",
       "    Everything defined in the database before does not exist anymore.\n",
       "\n",
       "    Corresponds to the functionality of halt/0.\n",
       "    Has the same effect as interrupting or restarting the Jupyter kernel.\n",
       "\n",
       "--------------------------------------------------------------------------------\n",
       "\n",
       "jupyter:retry or retry\n",
       "\n",
       "    Causes backtracking of the latest active query.\n",
       "\n",
       "    In general, the previous query is the active one.\n",
       "    However, the previous active query can be activated again.\n",
       "    This can be done by cutting off choicepoints with jupyter:cut/0.\n",
       "    This is also the case if a retry/0 encounters no further solutions.\n",
       "\n",
       "    Needs to be the only goal of a query.\n",
       "\n",
       "--------------------------------------------------------------------------------\n",
       "\n",
       "jupyter:cut or cut\n",
       "\n",
       "    Cuts off the choicepoints of the latest active query.\n",
       "\n",
       "    In general, the previous query is the active one.\n",
       "    However, the previous active query can be activated again.\n",
       "    This can be done by cutting off choicepoints with jupyter:cut/0.\n",
       "    This is also the case if a retry/0 encounters no further solutions.\n",
       "\n",
       "    A further retry/0 call causes backtracking of the previous active goal.\n",
       "\n",
       "    Needs to be the only goal of a query.\n",
       "\n",
       "--------------------------------------------------------------------------------\n",
       "\n",
       "jupyter:trace(+Goal)\n",
       "\n",
       "    Prints the trace of the goal Goal.\n",
       "    By default, no port is leashed so that no user interaction is requested.\n",
       "    All previously set breakpoints are still active.\n",
       "\n",
       "    Needs to be the only goal of a query in order to work as expected.\n",
       "\n",
       "--------------------------------------------------------------------------------\n",
       "\n",
       "jupyter:print_variable_bindings\n",
       "\n",
       "    Prints variable bindings from previous queries.\n",
       "    For each variable, the latest value it was bound to is shown.\n",
       "\n",
       "    The variable value can be accessed with a $Var term by any query.\n",
       "    In that case, the term is replaced by the value.\n",
       "    If there is no previous value, an error message is printed.\n",
       "\n",
       "--------------------------------------------------------------------------------\n",
       "\n",
       "jupyter:print_table(+Goal)\n",
       "\n",
       "    Computes all results of the goal Goal with findall/3.\n",
       "    These are printed in a table.\n",
       "\n",
       "    Needs to be the only goal of a query.\n",
       "\n",
       "    Example: jupyter:print_table(prolog_flag(FlagName, Value)).\n",
       "\n",
       "--------------------------------------------------------------------------------\n",
       "\n",
       "jupyter:print_table(+ValuesLists, +VariableNames)\n",
       "\n",
       "    Prints a table of the values in ValuesLists.\n",
       "\n",
       "    ValuesLists is a list of lists of the same length.\n",
       "    Each list corresponds to one line of the table.\n",
       "\n",
       "    VariableNames is used to fill the header of the table.\n",
       "    If VariableNames=[], capital letters are used.\n",
       "    Otherwise, VariableNames needs to be a list of ground terms.\n",
       "    It needs to be of the same length as the values lists.\n",
       "\n",
       "    Needs to be the only goal of a query.\n",
       "\n",
       "    Can be used with a predicate like findall/3, but not directly.\n",
       "    Instead, a previous binding can be accessed with a $Var term.\n",
       "\n",
       "    Examples:\n",
       "        jupyter:print_table([[10,100],[20,400],[30,900]], ['X', 'Y']).\n",
       "        jupyter:print_table($ResultLists, []).\n",
       "\n",
       "--------------------------------------------------------------------------------\n",
       "\n",
       "jupyter:previous_query_time(-Goal, -Runtime)\n",
       "\n",
       "    Goal is the previously executed goal.\n",
       "    Time is the time in milliseconds it took the query to complete.\n",
       "\n",
       "--------------------------------------------------------------------------------\n",
       "\n",
       "jupyter:print_previous_queries(+Ids)\n",
       "\n",
       "    Prints previous queries which were exectued in requests with IDs in Ids.\n",
       "\n",
       "    Any $Var terms might be replaced by the variable's name.\n",
       "    This is the case if a previous query with ID in Ids contains Var.\n",
       "    Otherwise, $Var is not replaced."
      ]
     },
     "metadata": {},
     "output_type": "display_data"
    },
    {
     "data": {
      "text/latex": [
       "yes"
      ],
      "text/markdown": [
       "<pre style=\"\n",
       "font-family: Menlo, Consolas, 'DejaVu Sans Mono', monospace;\n",
       "font-size: 13px;\n",
       "line-height: 1.3077;\n",
       "font-weight: bold;\">yes</pre>"
      ],
      "text/plain": [
       "yes"
      ]
     },
     "metadata": {},
     "output_type": "display_data"
    }
   ],
   "source": [
    "jupyter:help"
   ]
  },
  {
   "cell_type": "markdown",
   "metadata": {
    "tags": []
   },
   "source": [
    "### Reset the Prolog State <a id='reset_state'></a>"
   ]
  },
  {
   "cell_type": "markdown",
   "metadata": {},
   "source": [
    "All code is executed by a Prolog server.<br>\n",
    "As long as the server is running, the database state with all potential side effects such as clause assertions is in effect.<br>\n",
    "However, the user might want to undo all those and reset everything to an initial state.<br>\n",
    "There are several ways to do this.<br>\n",
    "\n",
    "The most natural and Prolog-like way is to call the built-in predicate `halt` or the Jupyter version `jupyter:halt`.<br>\n",
    "It should be noted that this predicate needs to be the only one of a query so that it can be determined as a special query and handled correctly.<br>\n",
    "If it does work as expected, a success message is output.<br>\n",
    "\n",
    "Additionally, in JupyterLab as well as Jupyter Notebook, there are buttons for interrupting the kernel and restarting it.<br>\n",
    "The same can also be achieved by pressing *I+I* and *0+0* respectively.<br>\n",
    "All of these options cause the Prolog server to be stopped.<br>\n",
    "The next time code is executed, a message about the restart of the server is output to let the user know that everything defined so far has been undone.<br>\n",
    "\n",
    "Restarting the server is especially useful when all cells of a notebook are to be run and not all of them are to work on the same Prolog database."
   ]
  },
  {
   "cell_type": "code",
   "execution_count": 39,
   "metadata": {},
   "outputs": [
    {
     "data": {
      "text/latex": [
       "% Successfully halted"
      ],
      "text/markdown": [
       "<pre style=\"\n",
       "font-family: Menlo, Consolas, 'DejaVu Sans Mono', monospace;\n",
       "font-size: 13px;\n",
       "line-height: 1.3077;\n",
       "\">% Successfully halted</pre>"
      ],
      "text/plain": [
       "% Successfully halted"
      ]
     },
     "metadata": {},
     "output_type": "display_data"
    }
   ],
   "source": [
    "halt."
   ]
  },
  {
   "cell_type": "markdown",
   "metadata": {},
   "source": [
    "After the server restart, the previously defined predicate `app/4` does not exist anymore."
   ]
  },
  {
   "cell_type": "code",
   "execution_count": null,
   "metadata": {},
   "outputs": [
    {
     "data": {
      "text/latex": [
       "% The Prolog server was restarted"
      ],
      "text/markdown": [
       "<pre style=\"\n",
       "font-family: Menlo, Consolas, 'DejaVu Sans Mono', monospace;\n",
       "font-size: 13px;\n",
       "line-height: 1.3077;\n",
       "color:red\">% The Prolog server was restarted</pre>"
      ],
      "text/plain": [
       "% The Prolog server was restarted"
      ]
     },
     "metadata": {},
     "output_type": "display_data"
    },
    {
     "data": {
      "text/latex": [
       "! Existence error in user:app/4\\\\\n",
       " ! procedure user:app/4 does not exist\\\\\n",
       " ! goal:  user:app([1,2],[3,4],[5,6],_14305)\\\\\n",
       " "
      ],
      "text/markdown": [
       "<pre style=\"\n",
       "font-family: Menlo, Consolas, 'DejaVu Sans Mono', monospace;\n",
       "font-size: 13px;\n",
       "line-height: 1.3077;\n",
       "color:red; font-weight:bold;\">! Existence error in user:app/4\n",
       "! procedure user:app/4 does not exist\n",
       "! goal:  user:app([1,2],[3,4],[5,6],_14305)\n",
       "</pre>"
      ],
      "text/plain": [
       "! Existence error in user:app/4\n",
       "! procedure user:app/4 does not exist\n",
       "! goal:  user:app([1,2],[3,4],[5,6],_14305)\n"
      ]
     },
     "metadata": {},
     "output_type": "display_data"
    }
   ],
   "source": [
    "app([1,2], [3,4], [5,6], R)."
   ]
  },
  {
   "cell_type": "markdown",
   "metadata": {
    "tags": []
   },
   "source": [
    "### Accessing Previous Results <a id='previous_results'></a>"
   ]
  },
  {
   "cell_type": "markdown",
   "metadata": {},
   "source": [
    "SWI-Prolog provides functionality of reusing top-level bindings.<br>\n",
    "Roughly, when a top-level goal succeeds, its bindings are asserted in a database.<br>\n",
    "By using `$Var` in a top-level query, the latest binding for the variable `Var` can be accessed.<br>\n",
    "This functionality is also provided by the SICStus Prolog Jupyter kernel.<br>\n",
    "Additionally, there is the predicate `jupyter:print_variable_bindings/0` that outputs all stored variable bindings.<br>"
   ]
  },
  {
   "cell_type": "code",
   "execution_count": 41,
   "metadata": {},
   "outputs": [
    {
     "data": {
      "text/latex": [
       "% Successfully halted"
      ],
      "text/markdown": [
       "<pre style=\"\n",
       "font-family: Menlo, Consolas, 'DejaVu Sans Mono', monospace;\n",
       "font-size: 13px;\n",
       "line-height: 1.3077;\n",
       "\">% Successfully halted</pre>"
      ],
      "text/plain": [
       "% Successfully halted"
      ]
     },
     "metadata": {},
     "output_type": "display_data"
    }
   ],
   "source": [
    "halt."
   ]
  },
  {
   "cell_type": "code",
   "execution_count": 42,
   "metadata": {},
   "outputs": [
    {
     "data": {
      "text/latex": [
       "% The Prolog server was restarted"
      ],
      "text/markdown": [
       "<pre style=\"\n",
       "font-family: Menlo, Consolas, 'DejaVu Sans Mono', monospace;\n",
       "font-size: 13px;\n",
       "line-height: 1.3077;\n",
       "color:red\">% The Prolog server was restarted</pre>"
      ],
      "text/plain": [
       "% The Prolog server was restarted"
      ]
     },
     "metadata": {},
     "output_type": "display_data"
    },
    {
     "data": {
      "text/latex": [
       "X = 1"
      ],
      "text/markdown": [
       "<pre style=\"\n",
       "font-family: Menlo, Consolas, 'DejaVu Sans Mono', monospace;\n",
       "font-size: 13px;\n",
       "line-height: 1.3077;\n",
       "font-weight: bold;\">X = 1</pre>"
      ],
      "text/plain": [
       "X = 1"
      ]
     },
     "metadata": {},
     "output_type": "display_data"
    }
   ],
   "source": [
    "X = 1."
   ]
  },
  {
   "cell_type": "code",
   "execution_count": 43,
   "metadata": {},
   "outputs": [
    {
     "data": {
      "text/latex": [
       "Y = 3,\\\\\n",
       " X = 1"
      ],
      "text/markdown": [
       "<pre style=\"\n",
       "font-family: Menlo, Consolas, 'DejaVu Sans Mono', monospace;\n",
       "font-size: 13px;\n",
       "line-height: 1.3077;\n",
       "font-weight: bold;\">Y = 3,\n",
       "X = 1</pre>"
      ],
      "text/plain": [
       "Y = 3,\n",
       "X = 1"
      ]
     },
     "metadata": {},
     "output_type": "display_data"
    }
   ],
   "source": [
    "Y is $X + 2."
   ]
  },
  {
   "cell_type": "code",
   "execution_count": 44,
   "metadata": {
    "tags": []
   },
   "outputs": [
    {
     "data": {
      "text/latex": [
       "$X =        1\\\\\n",
       " $Y =        3"
      ],
      "text/markdown": [
       "<pre style=\"\n",
       "font-family: Menlo, Consolas, 'DejaVu Sans Mono', monospace;\n",
       "font-size: 13px;\n",
       "line-height: 1.3077;\n",
       "\">$X =        1\n",
       "$Y =        3</pre>"
      ],
      "text/plain": [
       "$X =        1\n",
       "$Y =        3"
      ]
     },
     "metadata": {},
     "output_type": "display_data"
    },
    {
     "data": {
      "text/latex": [
       "yes"
      ],
      "text/markdown": [
       "<pre style=\"\n",
       "font-family: Menlo, Consolas, 'DejaVu Sans Mono', monospace;\n",
       "font-size: 13px;\n",
       "line-height: 1.3077;\n",
       "font-weight: bold;\">yes</pre>"
      ],
      "text/plain": [
       "yes"
      ]
     },
     "metadata": {},
     "output_type": "display_data"
    }
   ],
   "source": [
    "jupyter:print_variable_bindings."
   ]
  },
  {
   "cell_type": "markdown",
   "metadata": {},
   "source": [
    "Further, all executed queries are stored internally.<br>\n",
    "When writing a new predicate, a user might test its subgoals gradually in different cells,\n",
    "potentially using `$Var` terms to access previous values.<br>\n",
    "Once all the parts are written, the predicate `jupyter:print_previous_queries(Ids)` can be called to access the previous queries with IDs in the list Ids.<br>\n",
    "They are printed in a way that they can easily be copied to a cell and executed right away or expanded with a head to define a predicate.<br>\n",
    "If a query contains a `$Var` term and one of the previously printed queries contains the variable `Var`, the term is replaced by the variable name.<br>"
   ]
  },
  {
   "cell_type": "code",
   "execution_count": 45,
   "metadata": {},
   "outputs": [
    {
     "data": {
      "text/latex": [
       "Member = 10"
      ],
      "text/markdown": [
       "<pre style=\"\n",
       "font-family: Menlo, Consolas, 'DejaVu Sans Mono', monospace;\n",
       "font-size: 13px;\n",
       "line-height: 1.3077;\n",
       "font-weight: bold;\">Member = 10</pre>"
      ],
      "text/plain": [
       "Member = 10"
      ]
     },
     "metadata": {},
     "output_type": "display_data"
    }
   ],
   "source": [
    "member(Member, [10, 20, 30])."
   ]
  },
  {
   "cell_type": "code",
   "execution_count": 46,
   "metadata": {},
   "outputs": [
    {
     "data": {
      "text/latex": [
       "Square = 100,\\\\\n",
       " Member = 10"
      ],
      "text/markdown": [
       "<pre style=\"\n",
       "font-family: Menlo, Consolas, 'DejaVu Sans Mono', monospace;\n",
       "font-size: 13px;\n",
       "line-height: 1.3077;\n",
       "font-weight: bold;\">Square = 100,\n",
       "Member = 10</pre>"
      ],
      "text/plain": [
       "Square = 100,\n",
       "Member = 10"
      ]
     },
     "metadata": {},
     "output_type": "display_data"
    }
   ],
   "source": [
    "Square is $Member * $Member."
   ]
  },
  {
   "cell_type": "code",
   "execution_count": 47,
   "metadata": {},
   "outputs": [
    {
     "data": {
      "text/latex": [
       "  member(Member,[10,20,30]),\\\\\n",
       "   Square is Member*Member."
      ],
      "text/markdown": [
       "<pre style=\"\n",
       "font-family: Menlo, Consolas, 'DejaVu Sans Mono', monospace;\n",
       "font-size: 13px;\n",
       "line-height: 1.3077;\n",
       "\">  member(Member,[10,20,30]),\n",
       "  Square is Member*Member.</pre>"
      ],
      "text/plain": [
       "  member(Member,[10,20,30]),\n",
       "  Square is Member*Member."
      ]
     },
     "metadata": {},
     "output_type": "display_data"
    },
    {
     "data": {
      "text/latex": [
       "yes"
      ],
      "text/markdown": [
       "<pre style=\"\n",
       "font-family: Menlo, Consolas, 'DejaVu Sans Mono', monospace;\n",
       "font-size: 13px;\n",
       "line-height: 1.3077;\n",
       "font-weight: bold;\">yes</pre>"
      ],
      "text/plain": [
       "yes"
      ]
     },
     "metadata": {},
     "output_type": "display_data"
    }
   ],
   "source": [
    "jupyter:print_previous_queries([45, 46])."
   ]
  },
  {
   "cell_type": "markdown",
   "metadata": {
    "tags": []
   },
   "source": [
    "### Structured Output <a id='structured_output'></a>"
   ]
  },
  {
   "cell_type": "markdown",
   "metadata": {},
   "source": [
    "There are two special predicates to output tables: `jupyter:print_table/1` and `jupyter:print_table/2`."
   ]
  },
  {
   "cell_type": "markdown",
   "metadata": {},
   "source": [
    "The predicate `jupyter:print_table(Goal)` can be used to compute all results of the goal `Goal` with `findall/3` and display them in a table.<br>\n",
    "The table contains a column for each variable occurring in it and a line for each result.<br>"
   ]
  },
  {
   "cell_type": "code",
   "execution_count": 48,
   "metadata": {},
   "outputs": [
    {
     "data": {
      "text/markdown": [
       "Member | Square | \n",
       ":- | :- | \n",
       "10 | 100 | \n",
       "20 | 400 | "
      ],
      "text/plain": [
       "Member | Square | \n",
       ":- | :- | \n",
       "10 | 100 | \n",
       "20 | 400 | "
      ]
     },
     "metadata": {},
     "output_type": "display_data"
    }
   ],
   "source": [
    "jupyter:print_table((member(Member, [10,20]), Square is Member*Member))."
   ]
  },
  {
   "cell_type": "markdown",
   "metadata": {},
   "source": [
    "In order to fill a table with other data than results of `findall/3`, there is the predicate `jupyter:print_table(ValuesLists, VariableNames)`.<br>\n",
    "`ValuesLists` is expected to be a list of lists where each of this lists corresponds to one line of the table.<br>\n",
    "Therefore, all the lists need to be of the same length.<br>\n",
    "Furthermore, `VariableNames` is used to provide the column headers and needs to be a list of ground terms of the same length as well unless it equals `[]`.<br>\n",
    "In the latter case, the headers contain capital letters starting from `A`.<br>"
   ]
  },
  {
   "cell_type": "code",
   "execution_count": 49,
   "metadata": {},
   "outputs": [
    {
     "data": {
      "text/markdown": [
       "A | B | \n",
       ":- | :- | \n",
       "10 | 100 | \n",
       "20 | 400 | \n",
       "30 | 900 | "
      ],
      "text/plain": [
       "A | B | \n",
       ":- | :- | \n",
       "10 | 100 | \n",
       "20 | 400 | \n",
       "30 | 900 | "
      ]
     },
     "metadata": {},
     "output_type": "display_data"
    }
   ],
   "source": [
    "jupyter:print_table([[10,100],[20,400],[30,900]], [])."
   ]
  },
  {
   "cell_type": "markdown",
   "metadata": {},
   "source": [
    "It needs to be noted that both of the predicates do not work properly unless they are the only goal in a query.<br>\n",
    "Therefore, the value for `ValuesLists` cannot be computed in the same query.<br>\n",
    "However, the mechanism of reusing bindings from previous queries can be used.<br>"
   ]
  },
  {
   "cell_type": "code",
   "execution_count": 50,
   "metadata": {},
   "outputs": [
    {
     "data": {
      "text/latex": [
       "ResultLists = [[10,100],[20,400]]"
      ],
      "text/markdown": [
       "<pre style=\"\n",
       "font-family: Menlo, Consolas, 'DejaVu Sans Mono', monospace;\n",
       "font-size: 13px;\n",
       "line-height: 1.3077;\n",
       "font-weight: bold;\">ResultLists = [[10,100],[20,400]]</pre>"
      ],
      "text/plain": [
       "ResultLists = [[10,100],[20,400]]"
      ]
     },
     "metadata": {},
     "output_type": "display_data"
    }
   ],
   "source": [
    "findall([M, S], (member(M, [10,20]), S is M*M), ResultLists)."
   ]
  },
  {
   "cell_type": "code",
   "execution_count": 51,
   "metadata": {},
   "outputs": [
    {
     "data": {
      "text/markdown": [
       "Member | Square | \n",
       ":- | :- | \n",
       "10 | 100 | \n",
       "20 | 400 | "
      ],
      "text/plain": [
       "Member | Square | \n",
       ":- | :- | \n",
       "10 | 100 | \n",
       "20 | 400 | "
      ]
     },
     "metadata": {},
     "output_type": "display_data"
    }
   ],
   "source": [
    "jupyter:print_table($ResultLists, ['Member', 'Square'])."
   ]
  }
 ],
 "metadata": {
  "celltoolbar": "Slideshow",
  "kernelspec": {
   "display_name": "SICStus Prolog",
   "language": "prolog",
   "name": "sicstus_kernel"
  },
  "language_info": {
   "codemirror_mode": "prolog",
   "file_extension": ".pl",
   "mimetype": "text/x-prolog",
   "name": "Prolog"
  },
  "toc-autonumbering": false,
  "toc-showmarkdowntxt": false
 },
 "nbformat": 4,
 "nbformat_minor": 4
}
